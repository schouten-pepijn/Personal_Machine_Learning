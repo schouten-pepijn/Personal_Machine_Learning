{
 "cells": [
  {
   "cell_type": "code",
   "execution_count": 3,
   "metadata": {},
   "outputs": [
    {
     "name": "stderr",
     "output_type": "stream",
     "text": [
      "Setting default log level to \"WARN\".\n",
      "To adjust logging level use sc.setLogLevel(newLevel). For SparkR, use setLogLevel(newLevel).\n",
      "24/11/14 17:05:50 WARN NativeCodeLoader: Unable to load native-hadoop library for your platform... using builtin-java classes where applicable\n",
      "24/11/14 17:05:51 WARN Utils: Service 'SparkUI' could not bind on port 4040. Attempting port 4041.\n"
     ]
    }
   ],
   "source": [
    "from sklearn.datasets import load_iris\n",
    "from pyspark.sql import SparkSession\n",
    "from pyspark.ml.clustering import KMeans\n",
    "from pyspark.ml.feature import VectorAssembler\n",
    "from pyspark.ml.evaluation import ClusteringEvaluator\n",
    "import pandas as pd\n",
    "\n",
    "spark = SparkSession.builder.appName('k-means').getOrCreate()"
   ]
  },
  {
   "cell_type": "code",
   "execution_count": 4,
   "metadata": {},
   "outputs": [],
   "source": [
    "def load_data():\n",
    "    iris = load_iris()\n",
    "    X = iris.data\n",
    "    y = iris.target\n",
    "    feat_names = iris.feature_names\n",
    "    \n",
    "    df = pd.DataFrame(X, columns=feat_names)\n",
    "    \n",
    "    print(df.head(5))\n",
    "    \n",
    "    return spark.createDataFrame(df), y\n",
    "\n",
    "\n",
    "def feature_assembler(spark_df, input_features):\n",
    "    assembler = VectorAssembler(\n",
    "        inputCols=input_features, outputCol='features')\n",
    "    return assembler.transform(spark_df)\n",
    "\n",
    "\n",
    "def k_means_clustering(spark_df, k=3):\n",
    "    kmeans = KMeans().setK(k).setSeed(87)\n",
    "    return kmeans.fit(spark_df)\n",
    "\n",
    "\n",
    "def evaluate_model(model, spark_df):\n",
    "    predictions = model.transform(spark_df)\n",
    "    \n",
    "    evaluator = ClusteringEvaluator()\n",
    "    silhouette = evaluator.evaluate(predictions)\n",
    "    print(f\"Silhouette score: {silhouette}\")\n",
    "    \n",
    "    return predictions\n",
    "    \n",
    "\n",
    "def cluster_counts(predictions):\n",
    "    predictions.groupBy('prediction').count().show()\n",
    "    \n",
    "\n"
   ]
  },
  {
   "cell_type": "code",
   "execution_count": 5,
   "metadata": {},
   "outputs": [
    {
     "name": "stdout",
     "output_type": "stream",
     "text": [
      "   sepal length (cm)  sepal width (cm)  petal length (cm)  petal width (cm)\n",
      "0                5.1               3.5                1.4               0.2\n",
      "1                4.9               3.0                1.4               0.2\n",
      "2                4.7               3.2                1.3               0.2\n",
      "3                4.6               3.1                1.5               0.2\n",
      "4                5.0               3.6                1.4               0.2\n"
     ]
    },
    {
     "name": "stderr",
     "output_type": "stream",
     "text": [
      "24/11/14 17:06:00 WARN InstanceBuilder: Failed to load implementation from:dev.ludovic.netlib.blas.JNIBLAS\n"
     ]
    },
    {
     "name": "stdout",
     "output_type": "stream",
     "text": [
      "Silhouette score: 0.735659605433223\n",
      "+----------+-----+\n",
      "|prediction|count|\n",
      "+----------+-----+\n",
      "|         1|   50|\n",
      "|         2|   62|\n",
      "|         0|   38|\n",
      "+----------+-----+\n",
      "\n"
     ]
    }
   ],
   "source": [
    "spark_df, y = load_data()\n",
    "\n",
    "spark_df = feature_assembler(spark_df, spark_df.columns)\n",
    "\n",
    "kmeans = k_means_clustering(spark_df, k=3)\n",
    "\n",
    "predictions = evaluate_model(kmeans, spark_df)\n",
    "\n",
    "cluster_counts(predictions)"
   ]
  },
  {
   "cell_type": "code",
   "execution_count": null,
   "metadata": {},
   "outputs": [],
   "source": []
  }
 ],
 "metadata": {
  "kernelspec": {
   "display_name": "spark_scikit",
   "language": "python",
   "name": "python3"
  },
  "language_info": {
   "codemirror_mode": {
    "name": "ipython",
    "version": 3
   },
   "file_extension": ".py",
   "mimetype": "text/x-python",
   "name": "python",
   "nbconvert_exporter": "python",
   "pygments_lexer": "ipython3",
   "version": "3.12.2"
  }
 },
 "nbformat": 4,
 "nbformat_minor": 2
}
