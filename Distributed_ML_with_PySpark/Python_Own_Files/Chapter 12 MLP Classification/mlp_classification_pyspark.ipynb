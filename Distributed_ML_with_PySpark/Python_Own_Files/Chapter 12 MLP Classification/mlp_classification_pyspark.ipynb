{
 "cells": [
  {
   "cell_type": "code",
   "execution_count": 10,
   "metadata": {},
   "outputs": [],
   "source": [
    "from pyspark.sql import SparkSession\n",
    "from pyspark.ml.feature import VectorAssembler\n",
    "from pyspark.ml.classification import MultilayerPerceptronClassifier\n",
    "from pyspark.ml.evaluation import MulticlassClassificationEvaluator\n",
    "import numpy as np\n",
    "from sklearn.datasets import load_digits\n",
    "\n",
    "spark = SparkSession.builder.appName(\"MLP\").getOrCreate()\n",
    "\n",
    "dataset = load_digits()"
   ]
  },
  {
   "cell_type": "code",
   "execution_count": null,
   "metadata": {},
   "outputs": [
    {
     "name": "stdout",
     "output_type": "stream",
     "text": [
      "+---------+---------+---------+---------+---------+---------+---------+---------+---------+---------+---------+---------+---------+---------+---------+---------+---------+---------+---------+---------+---------+---------+---------+---------+---------+---------+---------+---------+---------+---------+---------+---------+---------+---------+---------+---------+---------+---------+---------+---------+---------+---------+---------+---------+---------+---------+---------+---------+---------+---------+---------+---------+---------+---------+---------+---------+---------+---------+---------+---------+---------+---------+---------+---------+-----+\n",
      "|pixel_0_0|pixel_0_1|pixel_0_2|pixel_0_3|pixel_0_4|pixel_0_5|pixel_0_6|pixel_0_7|pixel_1_0|pixel_1_1|pixel_1_2|pixel_1_3|pixel_1_4|pixel_1_5|pixel_1_6|pixel_1_7|pixel_2_0|pixel_2_1|pixel_2_2|pixel_2_3|pixel_2_4|pixel_2_5|pixel_2_6|pixel_2_7|pixel_3_0|pixel_3_1|pixel_3_2|pixel_3_3|pixel_3_4|pixel_3_5|pixel_3_6|pixel_3_7|pixel_4_0|pixel_4_1|pixel_4_2|pixel_4_3|pixel_4_4|pixel_4_5|pixel_4_6|pixel_4_7|pixel_5_0|pixel_5_1|pixel_5_2|pixel_5_3|pixel_5_4|pixel_5_5|pixel_5_6|pixel_5_7|pixel_6_0|pixel_6_1|pixel_6_2|pixel_6_3|pixel_6_4|pixel_6_5|pixel_6_6|pixel_6_7|pixel_7_0|pixel_7_1|pixel_7_2|pixel_7_3|pixel_7_4|pixel_7_5|pixel_7_6|pixel_7_7|label|\n",
      "+---------+---------+---------+---------+---------+---------+---------+---------+---------+---------+---------+---------+---------+---------+---------+---------+---------+---------+---------+---------+---------+---------+---------+---------+---------+---------+---------+---------+---------+---------+---------+---------+---------+---------+---------+---------+---------+---------+---------+---------+---------+---------+---------+---------+---------+---------+---------+---------+---------+---------+---------+---------+---------+---------+---------+---------+---------+---------+---------+---------+---------+---------+---------+---------+-----+\n",
      "|      0.0|      0.0|      5.0|     13.0|      9.0|      1.0|      0.0|      0.0|      0.0|      0.0|     13.0|     15.0|     10.0|     15.0|      5.0|      0.0|      0.0|      3.0|     15.0|      2.0|      0.0|     11.0|      8.0|      0.0|      0.0|      4.0|     12.0|      0.0|      0.0|      8.0|      8.0|      0.0|      0.0|      5.0|      8.0|      0.0|      0.0|      9.0|      8.0|      0.0|      0.0|      4.0|     11.0|      0.0|      1.0|     12.0|      7.0|      0.0|      0.0|      2.0|     14.0|      5.0|     10.0|     12.0|      0.0|      0.0|      0.0|      0.0|      6.0|     13.0|     10.0|      0.0|      0.0|      0.0|  0.0|\n",
      "|      0.0|      0.0|      0.0|     12.0|     13.0|      5.0|      0.0|      0.0|      0.0|      0.0|      0.0|     11.0|     16.0|      9.0|      0.0|      0.0|      0.0|      0.0|      3.0|     15.0|     16.0|      6.0|      0.0|      0.0|      0.0|      7.0|     15.0|     16.0|     16.0|      2.0|      0.0|      0.0|      0.0|      0.0|      1.0|     16.0|     16.0|      3.0|      0.0|      0.0|      0.0|      0.0|      1.0|     16.0|     16.0|      6.0|      0.0|      0.0|      0.0|      0.0|      1.0|     16.0|     16.0|      6.0|      0.0|      0.0|      0.0|      0.0|      0.0|     11.0|     16.0|     10.0|      0.0|      0.0|  1.0|\n",
      "|      0.0|      0.0|      0.0|      4.0|     15.0|     12.0|      0.0|      0.0|      0.0|      0.0|      3.0|     16.0|     15.0|     14.0|      0.0|      0.0|      0.0|      0.0|      8.0|     13.0|      8.0|     16.0|      0.0|      0.0|      0.0|      0.0|      1.0|      6.0|     15.0|     11.0|      0.0|      0.0|      0.0|      1.0|      8.0|     13.0|     15.0|      1.0|      0.0|      0.0|      0.0|      9.0|     16.0|     16.0|      5.0|      0.0|      0.0|      0.0|      0.0|      3.0|     13.0|     16.0|     16.0|     11.0|      5.0|      0.0|      0.0|      0.0|      0.0|      3.0|     11.0|     16.0|      9.0|      0.0|  2.0|\n",
      "|      0.0|      0.0|      7.0|     15.0|     13.0|      1.0|      0.0|      0.0|      0.0|      8.0|     13.0|      6.0|     15.0|      4.0|      0.0|      0.0|      0.0|      2.0|      1.0|     13.0|     13.0|      0.0|      0.0|      0.0|      0.0|      0.0|      2.0|     15.0|     11.0|      1.0|      0.0|      0.0|      0.0|      0.0|      0.0|      1.0|     12.0|     12.0|      1.0|      0.0|      0.0|      0.0|      0.0|      0.0|      1.0|     10.0|      8.0|      0.0|      0.0|      0.0|      8.0|      4.0|      5.0|     14.0|      9.0|      0.0|      0.0|      0.0|      7.0|     13.0|     13.0|      9.0|      0.0|      0.0|  3.0|\n",
      "|      0.0|      0.0|      0.0|      1.0|     11.0|      0.0|      0.0|      0.0|      0.0|      0.0|      0.0|      7.0|      8.0|      0.0|      0.0|      0.0|      0.0|      0.0|      1.0|     13.0|      6.0|      2.0|      2.0|      0.0|      0.0|      0.0|      7.0|     15.0|      0.0|      9.0|      8.0|      0.0|      0.0|      5.0|     16.0|     10.0|      0.0|     16.0|      6.0|      0.0|      0.0|      4.0|     15.0|     16.0|     13.0|     16.0|      1.0|      0.0|      0.0|      0.0|      0.0|      3.0|     15.0|     10.0|      0.0|      0.0|      0.0|      0.0|      0.0|      2.0|     16.0|      4.0|      0.0|      0.0|  4.0|\n",
      "+---------+---------+---------+---------+---------+---------+---------+---------+---------+---------+---------+---------+---------+---------+---------+---------+---------+---------+---------+---------+---------+---------+---------+---------+---------+---------+---------+---------+---------+---------+---------+---------+---------+---------+---------+---------+---------+---------+---------+---------+---------+---------+---------+---------+---------+---------+---------+---------+---------+---------+---------+---------+---------+---------+---------+---------+---------+---------+---------+---------+---------+---------+---------+---------+-----+\n",
      "only showing top 5 rows\n",
      "\n"
     ]
    },
    {
     "name": "stderr",
     "output_type": "stream",
     "text": [
      "24/11/15 00:32:41 WARN InstanceBuilder: Failed to load implementation from:dev.ludovic.netlib.blas.JNIBLAS\n"
     ]
    },
    {
     "name": "stdout",
     "output_type": "stream",
     "text": [
      "Accuracy: 0.9435897435897436\n",
      "Precision: 0.9429757436753393\n",
      "Recall: 0.9435897435897437\n",
      "F1: 0.9428243681109911\n",
      "+-----+---+---+---+---+---+---+---+---+---+---+\n",
      "|label|0.0|1.0|2.0|3.0|4.0|5.0|6.0|7.0|8.0|9.0|\n",
      "+-----+---+---+---+---+---+---+---+---+---+---+\n",
      "|0.0  |46 |0  |0  |0  |1  |0  |0  |0  |0  |0  |\n",
      "|1.0  |0  |42 |0  |0  |0  |0  |0  |0  |0  |0  |\n",
      "|2.0  |0  |0  |39 |1  |0  |0  |0  |0  |0  |0  |\n",
      "|3.0  |0  |0  |2  |40 |0  |0  |0  |0  |3  |1  |\n",
      "|4.0  |0  |0  |0  |0  |34 |0  |0  |1  |0  |0  |\n",
      "|5.0  |0  |0  |0  |1  |0  |42 |0  |0  |1  |0  |\n",
      "|6.0  |0  |0  |0  |0  |0  |0  |26 |0  |1  |0  |\n",
      "|7.0  |0  |0  |0  |0  |0  |0  |0  |30 |0  |0  |\n",
      "|8.0  |0  |3  |0  |1  |0  |1  |1  |0  |31 |2  |\n",
      "|9.0  |1  |0  |0  |0  |1  |0  |0  |0  |0  |38 |\n",
      "+-----+---+---+---+---+---+---+---+---+---+---+\n",
      "\n"
     ]
    }
   ],
   "source": [
    "data_array = np.concatenate((dataset.data, dataset.target.reshape(-1, 1)), axis=1)\n",
    "columns = dataset.feature_names + ['label']\n",
    "spark_df = spark.createDataFrame(data_array, columns)\n",
    "spark_df.show(5)\n",
    "\n",
    "train, test = spark_df.randomSplit([0.8, 0.2], seed=87)\n",
    "\n",
    "input_features = spark_df.columns[:-1]\n",
    "\n",
    "assembler = VectorAssembler(\n",
    "    inputCols=input_features, outputCol=\"features\")\n",
    "train_df = assembler.transform(train)\n",
    "test_df = assembler.transform(test)\n",
    "\n",
    "layers = [len(input_features), 64, 64, len(dataset.target_names)]\n",
    "mlp = MultilayerPerceptronClassifier(\n",
    "    layers=layers, featuresCol='features', labelCol='label', seed=87)\n",
    "\n",
    "model = mlp.fit(train_df)\n",
    "predictions = model.transform(test_df)\n",
    "\n",
    "evaluator = MulticlassClassificationEvaluator(\n",
    "    predictionCol=\"prediction\", labelCol=\"label\", metricName=\"accuracy\")\n",
    "accuracy = evaluator.evaluate(predictions)\n",
    "\n",
    "evaluator_precision = MulticlassClassificationEvaluator(\n",
    "    predictionCol=\"prediction\", labelCol=\"label\", metricName=\"weightedPrecision\")\n",
    "precision = evaluator_precision.evaluate(predictions)\n",
    "\n",
    "evaluator_recall = MulticlassClassificationEvaluator(\n",
    "    predictionCol=\"prediction\", labelCol=\"label\", metricName=\"weightedRecall\")\n",
    "recall = evaluator_recall.evaluate(predictions)\n",
    "\n",
    "evaluator_f1 = MulticlassClassificationEvaluator(\n",
    "    predictionCol=\"prediction\", labelCol=\"label\", metricName=\"f1\")\n",
    "f1 = evaluator_f1.evaluate(predictions)\n",
    "\n",
    "print(f\"Accuracy: {accuracy}\")\n",
    "print(f\"Precision: {precision}\")\n",
    "print(f\"Recall: {recall}\")\n",
    "print(f\"F1: {f1}\")\n",
    "\n",
    "confusion_matrix = (predictions\n",
    "                    .groupBy(\"label\")\n",
    "                    .pivot(\"prediction\")\n",
    "                    .count()\n",
    "                    .fillna(0)\n",
    "                    .orderBy(\"label\")\n",
    ")\n",
    "confusion_matrix.show(truncate=False)"
   ]
  },
  {
   "cell_type": "code",
   "execution_count": null,
   "metadata": {},
   "outputs": [],
   "source": []
  }
 ],
 "metadata": {
  "kernelspec": {
   "display_name": "spark_scikit",
   "language": "python",
   "name": "python3"
  },
  "language_info": {
   "codemirror_mode": {
    "name": "ipython",
    "version": 3
   },
   "file_extension": ".py",
   "mimetype": "text/x-python",
   "name": "python",
   "nbconvert_exporter": "python",
   "pygments_lexer": "ipython3",
   "version": "3.12.2"
  }
 },
 "nbformat": 4,
 "nbformat_minor": 2
}
