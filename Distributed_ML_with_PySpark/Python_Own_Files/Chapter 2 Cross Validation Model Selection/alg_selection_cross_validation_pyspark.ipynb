{
 "cells": [
  {
   "cell_type": "code",
   "execution_count": 9,
   "metadata": {},
   "outputs": [
    {
     "name": "stdout",
     "output_type": "stream",
     "text": [
      "+-----------+-------+-------------+----+------------------------+---+-------+--------------------------------+\n",
      "|Pregnancies|Glucose|BloodPressure|BMI |DiabetesPedigreeFunction|Age|Outcome|features                        |\n",
      "+-----------+-------+-------------+----+------------------------+---+-------+--------------------------------+\n",
      "|6          |148    |72           |33.6|0.627                   |50 |1      |[6.0,148.0,72.0,33.6,0.627,50.0]|\n",
      "|1          |85     |66           |26.6|0.351                   |31 |0      |[1.0,85.0,66.0,26.6,0.351,31.0] |\n",
      "|8          |183    |64           |23.3|0.672                   |32 |1      |[8.0,183.0,64.0,23.3,0.672,32.0]|\n",
      "|1          |89     |66           |28.1|0.167                   |21 |0      |[1.0,89.0,66.0,28.1,0.167,21.0] |\n",
      "|0          |137    |40           |43.1|2.288                   |33 |1      |[0.0,137.0,40.0,43.1,2.288,33.0]|\n",
      "+-----------+-------+-------------+----+------------------------+---+-------+--------------------------------+\n",
      "only showing top 5 rows\n",
      "\n"
     ]
    },
    {
     "name": "stderr",
     "output_type": "stream",
     "text": [
      "24/10/24 15:34:34 WARN InstanceBuilder: Failed to load implementation from:dev.ludovic.netlib.blas.JNIBLAS\n"
     ]
    },
    {
     "name": "stdout",
     "output_type": "stream",
     "text": [
      "LogisticRegression ROC AUC mean: 0.84\n",
      "DecisionTreeClassifier ROC AUC mean: 0.78\n",
      "RandomForestClassifier ROC AUC mean: 0.91\n"
     ]
    },
    {
     "name": "stderr",
     "output_type": "stream",
     "text": [
      "24/10/24 15:35:08 ERROR OWLQN: Failure! Resetting history: breeze.optimize.NaNHistory: \n",
      "24/10/24 15:35:29 ERROR OWLQN: Failure! Resetting history: breeze.optimize.NaNHistory: \n"
     ]
    },
    {
     "name": "stdout",
     "output_type": "stream",
     "text": [
      "LinearSVC ROC AUC mean: 0.84\n"
     ]
    }
   ],
   "source": [
    "import pandas as pd\n",
    "from pyspark.sql import SparkSession\n",
    "from pyspark.ml.feature import VectorAssembler, StandardScaler\n",
    "from pyspark.ml.classification import (\n",
    "    LogisticRegression, DecisionTreeClassifier,\n",
    "    RandomForestClassifier, LinearSVC)\n",
    "from pyspark.ml.evaluation import BinaryClassificationEvaluator\n",
    "from pyspark.ml.tuning import CrossValidator, ParamGridBuilder\n",
    "import pyspark.sql.functions as F\n",
    "\n",
    "file_path = \"/Users/pepijnschouten/Desktop/Python_Scripts\" \\\n",
    "                \"/Python_Scripts_Books/Distributed_ML_with_PySpark\" \\\n",
    "                    \"/Python_Own_Files/Chapter 2/data/diabetes.csv\"\n",
    "\n",
    "\"\"\"\n",
    "Data Preprocessing\n",
    "\"\"\"\n",
    "pandas_df = pd.read_csv(file_path)\n",
    "\n",
    "spark = SparkSession.builder.appName(\"diabetes_data\").getOrCreate()\n",
    "spark_df = spark.createDataFrame(pandas_df)\n",
    "spark_df = spark_df.filter((spark_df[\"Glucose\"] != 0)\n",
    "                          & (spark_df[\"BloodPressure\"] != 0)\n",
    "                          & (spark_df[\"BMI\"] != 0)).select(\n",
    "                              [\"Pregnancies\", \"Glucose\", \"BloodPressure\",\n",
    "                               \"BMI\", \"DiabetesPedigreeFunction\", \"Age\", \"Outcome\"]\n",
    "                          )\n",
    "\n",
    "\"\"\"\n",
    "PySpark Model Selection with Cross Validation\n",
    "\"\"\"\n",
    "\n",
    "# required for distributed training\n",
    "assembler = VectorAssembler(\n",
    "    inputCols=[\"Pregnancies\",\n",
    "               \"Glucose\",\n",
    "               \"BloodPressure\",\n",
    "               \"BMI\",\n",
    "               \"DiabetesPedigreeFunction\",\n",
    "               \"Age\"],\n",
    "    outputCol=\"features\")\n",
    "data = assembler.transform(spark_df)\n",
    "data.show(5, truncate=False)\n",
    "\n",
    "# rename outcome column to label\n",
    "data = data.withColumnRenamed(\"Outcome\", \"label\")\n",
    "\n",
    "# standardize features\n",
    "scaler = StandardScaler(inputCol=\"features\",\n",
    "                        outputCol=\"scaled_features\")\n",
    "data = scaler.fit(data).transform(data)\n",
    "\n",
    "# make classifier list\n",
    "classifiers = [LogisticRegression(),\n",
    "               DecisionTreeClassifier(),\n",
    "               RandomForestClassifier(),\n",
    "               LinearSVC(maxIter=1500)]\n",
    "\n",
    "# build empty param grid\n",
    "param_grid = ParamGridBuilder().build()\n",
    "\n",
    "# build evaluator\n",
    "evaluator = BinaryClassificationEvaluator(\n",
    "    labelCol=\"label\",\n",
    "    rawPredictionCol=\"rawPrediction\",\n",
    "    metricName=\"areaUnderROC\")\n",
    "\n",
    "# build cross validator\n",
    "for classifier in classifiers:\n",
    "    cv = CrossValidator(estimator=classifier,\n",
    "                        estimatorParamMaps=param_grid,\n",
    "                        evaluator=evaluator,\n",
    "                        numFolds=10)\n",
    "    cv_model = cv.fit(data)\n",
    "    results = cv_model.transform(data)\n",
    "    accuracy = evaluator.evaluate(results)\n",
    "\n",
    "    print(f\"{classifier.__class__.__name__} ROC AUC mean: {accuracy:.2f}\")"
   ]
  },
  {
   "cell_type": "code",
   "execution_count": null,
   "metadata": {},
   "outputs": [],
   "source": []
  }
 ],
 "metadata": {
  "kernelspec": {
   "display_name": "spark_scikit",
   "language": "python",
   "name": "python3"
  },
  "language_info": {
   "codemirror_mode": {
    "name": "ipython",
    "version": 3
   },
   "file_extension": ".py",
   "mimetype": "text/x-python",
   "name": "python",
   "nbconvert_exporter": "python",
   "pygments_lexer": "ipython3",
   "version": "3.12.7"
  }
 },
 "nbformat": 4,
 "nbformat_minor": 2
}
