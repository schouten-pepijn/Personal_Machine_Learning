{
 "cells": [
  {
   "cell_type": "code",
   "execution_count": 1,
   "metadata": {},
   "outputs": [
    {
     "name": "stderr",
     "output_type": "stream",
     "text": [
      "Setting default log level to \"WARN\".\n",
      "To adjust logging level use sc.setLogLevel(newLevel). For SparkR, use setLogLevel(newLevel).\n",
      "24/11/14 11:31:47 WARN NativeCodeLoader: Unable to load native-hadoop library for your platform... using builtin-java classes where applicable\n"
     ]
    }
   ],
   "source": [
    "import pandas as pd\n",
    "from pyspark.sql import SparkSession\n",
    "from pyspark.ml.feature import VectorAssembler\n",
    "from pyspark.ml.classification import RandomForestClassifier\n",
    "from pyspark.ml.evaluation import MulticlassClassificationEvaluator\n",
    "from sklearn.datasets import load_iris\n",
    "\n",
    "spark = (SparkSession.builder\n",
    "         .appName(\"Decision_tree_classification\").getOrCreate())\n",
    "\n",
    "# load iris data\n",
    "def load_iris_data():\n",
    "    iris = load_iris()\n",
    "    X = iris.data\n",
    "    y = iris.target\n",
    "    \n",
    "    feature_names = iris.feature_names\n",
    "    target_names = iris.target_names\n",
    "    \n",
    "    pandas_df = pd.DataFrame(X, columns=feature_names)\n",
    "    pandas_df[\"label\"] = y\n",
    "    \n",
    "    return pandas_df\n",
    "\n",
    "# convert to spark\n",
    "def convert_to_spark(df):\n",
    "    return spark.createDataFrame(df)\n",
    "\n",
    "# feature vector\n",
    "def feature_vector(df):\n",
    "    assembler = VectorAssembler(\n",
    "        inputCols=df.columns[:-1], outputCol=\"features\")\n",
    "    return assembler.transform(df)\n",
    "\n",
    "# split data\n",
    "def split_data(data, train_ratio=0.8,\n",
    "               seed=87):\n",
    "    train, test = data.randomSplit(\n",
    "        [train_ratio, 1 - train_ratio], seed)\n",
    "    return train, test\n",
    "\n",
    "# model training\n",
    "def build_tree(train_data):\n",
    "    dt = RandomForestClassifier(\n",
    "        featuresCol=\"features\", labelCol=\"label\")\n",
    "    return dt.fit(train_data)\n",
    "\n",
    "# show feature importance\n",
    "def feature_importance(model, df):\n",
    "    feat_imp = model.featureImportances.toArray()\n",
    "    feature_names = df.columns[:-1]\n",
    "    tuple_pairs = [(feat_name, imp) for feat_name, imp\n",
    "                   in zip(feature_names, feat_imp)]\n",
    "    sort_tuple_pairs = sorted(tuple_pairs,\n",
    "                              key=lambda x: x[1],\n",
    "                              reverse=True)\n",
    "    for name, imp in sort_tuple_pairs:\n",
    "        print(f\"{name}: {imp}\")\n",
    "    \n",
    "\n",
    "# model evaluation\n",
    "def evaluate_model(model, test_data):\n",
    "    predictions = model.transform(test_data)\n",
    "    evaluator = MulticlassClassificationEvaluator(\n",
    "        predictionCol=\"prediction\", labelCol=\"label\", metricName=\"accuracy\")\n",
    "    \n",
    "    accuracy = evaluator.evaluate(predictions)\n",
    "    print(f\"Accuracy: {accuracy}\")\n"
   ]
  },
  {
   "cell_type": "code",
   "execution_count": 2,
   "metadata": {},
   "outputs": [
    {
     "name": "stderr",
     "output_type": "stream",
     "text": [
      "                                                                                \r"
     ]
    },
    {
     "name": "stdout",
     "output_type": "stream",
     "text": [
      "petal length (cm): 0.5187038160417065\n",
      "petal width (cm): 0.3961069369929094\n",
      "sepal length (cm): 0.06520078756189998\n",
      "sepal width (cm): 0.01998845940348416\n",
      "Accuracy: 1.0\n"
     ]
    }
   ],
   "source": [
    "df = load_iris_data()\n",
    "spark_df = convert_to_spark(df)\n",
    "\n",
    "transformed_data = feature_vector(spark_df)\n",
    "\n",
    "train_data, test_data = split_data(transformed_data)\n",
    "\n",
    "model = build_tree(train_data)\n",
    "\n",
    "feature_importance(model, spark_df)\n",
    "\n",
    "evaluate_model(model, test_data)"
   ]
  },
  {
   "cell_type": "code",
   "execution_count": null,
   "metadata": {},
   "outputs": [],
   "source": []
  }
 ],
 "metadata": {
  "kernelspec": {
   "display_name": "spark_scikit",
   "language": "python",
   "name": "python3"
  },
  "language_info": {
   "codemirror_mode": {
    "name": "ipython",
    "version": 3
   },
   "file_extension": ".py",
   "mimetype": "text/x-python",
   "name": "python",
   "nbconvert_exporter": "python",
   "pygments_lexer": "ipython3",
   "version": "3.12.2"
  }
 },
 "nbformat": 4,
 "nbformat_minor": 2
}
