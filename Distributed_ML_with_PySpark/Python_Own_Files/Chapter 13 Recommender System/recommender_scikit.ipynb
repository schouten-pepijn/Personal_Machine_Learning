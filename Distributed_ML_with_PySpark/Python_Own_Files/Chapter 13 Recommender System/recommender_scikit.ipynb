{
 "cells": [
  {
   "cell_type": "code",
   "execution_count": 3,
   "metadata": {},
   "outputs": [],
   "source": [
    "import pandas as pd\n",
    "import numpy as np\n",
    "from surprise import Dataset, Reader, SVD\n",
    "from surprise.model_selection import train_test_split\n",
    "from surprise.accuracy import rmse\n",
    "\n",
    "# load the data\n",
    "csv_dir = \"/Users/pepijnschouten/Desktop/Python_Scripts/\" \\\n",
    "    \"Python_Scripts_Books/Distributed_ML_with_PySpark/\" \\\n",
    "        \"Python_Own_Files/Chapter 13/data/amazon_product_ratings.csv\"\n",
    "\n",
    "column_names = [\"user_id\", \"product_id\",\n",
    "                \"rating\", \"timestamp\"]\n",
    "\n",
    "pandas_df = pd.read_csv(csv_dir,\n",
    "                        names=column_names)"
   ]
  },
  {
   "cell_type": "code",
   "execution_count": null,
   "metadata": {},
   "outputs": [
    {
     "name": "stdout",
     "output_type": "stream",
     "text": [
      "(82677131, 4)\n",
      "Index(['user_id', 'product_id', 'rating', 'timestamp'], dtype='object')\n",
      "          user_id  product_id  rating   timestamp\n",
      "0  A3AF8FFZAZYNE5  0000000078     5.0  1092182400\n",
      "1   AH2L9G3DQHHAJ  0000000116     4.0  1019865600\n",
      "2  A2IIIDRK3PRRZY  0000000116     1.0  1395619200\n",
      "3  A1TADCM7YWPQ8M  0000000868     4.0  1031702400\n",
      "4   AWGH7V0BDOJKB  0000013714     4.0  1383177600\n",
      "[1. 2. 3. 4. 5.]\n",
      "user_id        object\n",
      "product_id     object\n",
      "rating        float64\n",
      "timestamp       int64\n",
      "dtype: object\n"
     ]
    }
   ],
   "source": [
    "# explore the datq\n",
    "print(pandas_df.shape)\n",
    "print(pandas_df.columns)\n",
    "print(pandas_df.head())\n",
    "sorted_unique_ratings = np.sort(pandas_df[\"rating\"].unique())\n",
    "print(sorted_unique_ratings)\n",
    "print(pandas_df.dtypes)\n",
    "\n",
    "pandas_results_desc = (pandas_df\n",
    "                       .groupby(\"user_id\")\n",
    "                       .size()\n",
    "                       .reset_index(name=\"count\")\n",
    "                       .sort_values(by=\"count\", ascending=False))\n",
    "print(pandas_results_desc.head(5))\n",
    "\n",
    "pandas_results_asc = (pandas_df\n",
    "                      .groupby(\"user_id\")\n",
    "                      .size()\n",
    "                      .reset_index(name=\"count\")\n",
    "                      .sort_values(by=\"count\", ascending=True))\n",
    "print(pandas_results_asc.head(5))"
   ]
  },
  {
   "cell_type": "code",
   "execution_count": null,
   "metadata": {},
   "outputs": [],
   "source": [
    "# recommender system\n",
    "\n",
    "# define rating scale\n",
    "reader = Reader(rating_scale=(1, 5))\n",
    "data = Dataset.load_from_df(\n",
    "    pandas_df[[\"user_id\", \"product_id\", \"rating\"]],\n",
    "    reader)\n",
    "\n",
    "# split data\n",
    "trainset, testset = train_test_split(data, test_size=0.2)\n",
    "\n",
    "# model\n",
    "model = SVD()\n",
    "\n",
    "# train\n",
    "model.fit(trainset)\n",
    "\n",
    "# evaluate\n",
    "Predictions = model.test(testset)\n",
    "rmse_score = rmse(Predictions)\n",
    "print(f\"RMSE score: {rmse_score}\")\n",
    "\n",
    "# show some cases\n",
    "for prediction in Predictions[:5]:\n",
    "    rounded_prediction = round(prediction.est, 1)\n",
    "    print(f\"{prediction.uid}, {prediction.iid}, \"\n",
    "          f\"Actual rating: {prediction.r_ui}, \"\n",
    "          f\"Predicted rating: {rounded_prediction}\")"
   ]
  }
 ],
 "metadata": {
  "kernelspec": {
   "display_name": "spark_scikit",
   "language": "python",
   "name": "python3"
  },
  "language_info": {
   "codemirror_mode": {
    "name": "ipython",
    "version": 3
   },
   "file_extension": ".py",
   "mimetype": "text/x-python",
   "name": "python",
   "nbconvert_exporter": "python",
   "pygments_lexer": "ipython3",
   "version": "3.12.2"
  }
 },
 "nbformat": 4,
 "nbformat_minor": 2
}
