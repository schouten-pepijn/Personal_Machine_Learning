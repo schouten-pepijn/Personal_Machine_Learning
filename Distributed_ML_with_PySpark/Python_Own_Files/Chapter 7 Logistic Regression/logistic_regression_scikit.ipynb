{
 "cells": [
  {
   "cell_type": "code",
   "execution_count": 2,
   "metadata": {},
   "outputs": [],
   "source": [
    "import pandas as pd\n",
    "from sklearn.model_selection import train_test_split\n",
    "from sklearn.linear_model import LogisticRegression\n",
    "from sklearn.metrics import (accuracy_score, precision_score,\n",
    "                             recall_score, f1_score,\n",
    "                             confusion_matrix)\n",
    "from sklearn.preprocessing import StandardScaler\n",
    "\n",
    "# load data\n",
    "def load_diabetes_csv(path):\n",
    "    return pd.read_csv(path)\n",
    "\n",
    "# split data\n",
    "def split_data(X, y, test_size=0.2, random_state=87):\n",
    "    return train_test_split(X, y,\n",
    "                            test_size=test_size, random_state=random_state)\n",
    "\n",
    "# scaling the data\n",
    "def scale_data(X_train, X_test):\n",
    "    scaler = StandardScaler()\n",
    "    X_train = scaler.fit_transform(X_train)\n",
    "    X_test = scaler.transform(X_test)\n",
    "    return X_train, X_test\n",
    "\n",
    "# Logistic regression model\n",
    "def train_log_reg(X_train, y_train):\n",
    "    model = LogisticRegression()\n",
    "    model.fit(X_train, y_train)\n",
    "    return model\n",
    "\n",
    "# model evaluation\n",
    "def evaluate_model(model, X_test, y_test):\n",
    "    y_pred = model.predict(X_test)\n",
    "    accuracy = accuracy_score(y_test, y_pred)\n",
    "    precision = precision_score(y_test, y_pred)\n",
    "    recall = recall_score(y_test, y_pred)\n",
    "    confusion = confusion_matrix(y_test, y_pred)\n",
    "    f1 = f1_score(y_test, y_pred)\n",
    "    \n",
    "    print(f'Accuracy: {accuracy:.2f}')\n",
    "    print(f'Precision: {precision:.2f}')\n",
    "    print(f'Recall: {recall:.2f}')\n",
    "    print(f'F1 Score: {f1:.2f}')\n",
    "    print(f'Confusion Matrix:\\n{confusion}')\n",
    "    \n",
    "    result_df = pd.DataFrame({'Actual': y_test,\n",
    "                              'Predicted':y_pred})\n",
    "    print(result_df.head())"
   ]
  },
  {
   "cell_type": "code",
   "execution_count": null,
   "metadata": {},
   "outputs": [
    {
     "name": "stdout",
     "output_type": "stream",
     "text": [
      "Accuracy: 0.69\n",
      "Precision: 0.67\n",
      "Recall: 0.48\n",
      "F1 Score: 0.56\n",
      "Confusion Matrix:\n",
      "[[71 14]\n",
      " [31 29]]\n",
      "     Actual  Predicted\n",
      "319       1          1\n",
      "658       0          1\n",
      "534       0          0\n",
      "73        0          0\n",
      "322       1          0\n"
     ]
    }
   ],
   "source": [
    "path = \"/Users/pepijnschouten/Desktop/Python_Scripts/\" \\\n",
    "    \"Python_Scripts_Books/PySpark/Distributed_ML_with_\" \\\n",
    "        \"PySpark/Python_Own_Files/Chapter 7 Logistic Reg\" \\\n",
    "            \"/data/diabetes.csv\"\n",
    "            \n",
    "pandas_df = load_diabetes_csv(path)\n",
    "\n",
    "# relevant columns\n",
    "columns = ['Pregnancies', 'Glucose',\n",
    "           'BloodPressure', 'BMI',\n",
    "           'DiabetesPedigreeFunction', 'Age',\n",
    "           'Outcome']\n",
    "\n",
    "# clean data\n",
    "pandas_df = pandas_df[columns]\n",
    "pandas_df = pandas_df.loc[(pandas_df.Glucose != 0)\n",
    "                          & (pandas_df.BloodPressure != 0)\n",
    "                          & (pandas_df.BMI != 0),]\n",
    "\n",
    "X = pandas_df.drop('Outcome', axis=1)\n",
    "y = pandas_df['Outcome']\n",
    "\n",
    "X_train, X_test, y_train, y_test = split_data(X, y)\n",
    "\n",
    "X_train, X_test = scale_data(X_train, X_test)\n",
    "\n",
    "model = train_log_reg(X_train, y_train)\n",
    "\n",
    "evaluate_model(model, X_test, y_test)\n"
   ]
  },
  {
   "cell_type": "code",
   "execution_count": null,
   "metadata": {},
   "outputs": [],
   "source": []
  }
 ],
 "metadata": {
  "kernelspec": {
   "display_name": "spark_scikit",
   "language": "python",
   "name": "python3"
  },
  "language_info": {
   "codemirror_mode": {
    "name": "ipython",
    "version": 3
   },
   "file_extension": ".py",
   "mimetype": "text/x-python",
   "name": "python",
   "nbconvert_exporter": "python",
   "pygments_lexer": "ipython3",
   "version": "3.12.2"
  }
 },
 "nbformat": 4,
 "nbformat_minor": 2
}
