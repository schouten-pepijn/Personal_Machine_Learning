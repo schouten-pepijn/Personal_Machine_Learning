{
 "cells": [
  {
   "cell_type": "code",
   "execution_count": 1,
   "metadata": {},
   "outputs": [
    {
     "name": "stdout",
     "output_type": "stream",
     "text": [
      "Coefficients: [ 0.00099503 -0.01761937]\n",
      "Intercept: 0.03410986471560885\n",
      "     y_true    y_pred\n",
      "0 -2.719998  0.054270\n",
      "1 -7.378500  0.031076\n",
      "2 -4.916802  0.053589\n",
      "3 -6.676572  0.053467\n",
      "4 -7.671276  0.015000\n",
      "RMSE: 5.855947236028672\n"
     ]
    }
   ],
   "source": [
    "from sklearn.model_selection import train_test_split\n",
    "from sklearn.pipeline import Pipeline\n",
    "from sklearn.preprocessing import StandardScaler\n",
    "from sklearn.linear_model import LinearRegression\n",
    "from sklearn.metrics import root_mean_squared_error\n",
    "import numpy as np\n",
    "import pandas as pd\n",
    "\n",
    "\n",
    "# creaete data\n",
    "np.random.seed(0)\n",
    "num_samples = 10000\n",
    "X = np.random.rand(num_samples, 2) * 10\n",
    "y = np.random.rand(num_samples) * 20 - 10\n",
    "\n",
    "X_train, X_test, y_train, y_test = train_test_split(X, y,\n",
    "                                                    test_size=0.2,\n",
    "                                                    random_state=0)\n",
    "\n",
    "scaler = StandardScaler()\n",
    "regression = LinearRegression() \n",
    "\n",
    "steps = [(\"scaler\", scaler), (\"regression\", regression)]\n",
    "\n",
    "pipeline = Pipeline(steps=steps)\n",
    "\n",
    "pipeline.fit(X_train, y_train)\n",
    "\n",
    "coefficients = pipeline.named_steps[\"regression\"].coef_\n",
    "intercept = pipeline.named_steps[\"regression\"].intercept_\n",
    "\n",
    "print(f\"Coefficients: {coefficients}\")\n",
    "print(f\"Intercept: {intercept}\")\n",
    "\n",
    "y_pred = pipeline.predict(X_test)\n",
    "\n",
    "data = {\"y_true\": y_test, \"y_pred\": y_pred}\n",
    "df = pd.DataFrame(data)\n",
    "print(df.head())\n",
    "\n",
    "rmse = root_mean_squared_error(y_test, y_pred)\n",
    "print(f\"RMSE: {rmse}\")"
   ]
  }
 ],
 "metadata": {
  "kernelspec": {
   "display_name": "spark_scikit",
   "language": "python",
   "name": "python3"
  },
  "language_info": {
   "codemirror_mode": {
    "name": "ipython",
    "version": 3
   },
   "file_extension": ".py",
   "mimetype": "text/x-python",
   "name": "python",
   "nbconvert_exporter": "python",
   "pygments_lexer": "ipython3",
   "version": "3.12.2"
  }
 },
 "nbformat": 4,
 "nbformat_minor": 2
}
