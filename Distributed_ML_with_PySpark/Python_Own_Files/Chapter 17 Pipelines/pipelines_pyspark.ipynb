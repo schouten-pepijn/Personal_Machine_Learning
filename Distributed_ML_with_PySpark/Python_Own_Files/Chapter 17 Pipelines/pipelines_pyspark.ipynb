{
 "cells": [
  {
   "cell_type": "code",
   "execution_count": 1,
   "metadata": {},
   "outputs": [
    {
     "name": "stderr",
     "output_type": "stream",
     "text": [
      "Setting default log level to \"WARN\".\n",
      "To adjust logging level use sc.setLogLevel(newLevel). For SparkR, use setLogLevel(newLevel).\n",
      "24/11/14 08:40:28 WARN NativeCodeLoader: Unable to load native-hadoop library for your platform... using builtin-java classes where applicable\n",
      "24/11/14 08:40:32 WARN Instrumentation: [88a15e49] regParam is zero, which might cause numerical instability and overfitting.\n",
      "24/11/14 08:40:32 WARN InstanceBuilder: Failed to load implementation from:dev.ludovic.netlib.blas.JNIBLAS\n",
      "24/11/14 08:40:32 WARN InstanceBuilder: Failed to load implementation from:dev.ludovic.netlib.lapack.JNILAPACK\n"
     ]
    },
    {
     "name": "stdout",
     "output_type": "stream",
     "text": [
      "Coefficients:  [-0.16184509573533976,0.0638702583231202]\n",
      "Intercept:  0.07482663030754735\n",
      "+--------------------+-------------------+--------------------+\n",
      "|            features|              label|          prediction|\n",
      "+--------------------+-------------------+--------------------+\n",
      "|[5.46207738328965...| -5.833908718472404| -0.1587918689715602|\n",
      "|[3.73488290844839...| -5.626003665765125|-0.01445992317734...|\n",
      "|[2.63299818887171...|-1.3399181733082983|-0.06699945351753223|\n",
      "|[1.04948037378680...|  5.705691021243135|  0.1066981082398636|\n",
      "|[8.40206030459368...| -2.888887885238627|-0.21313216352948952|\n",
      "+--------------------+-------------------+--------------------+\n",
      "only showing top 5 rows\n",
      "\n",
      "RMSE:  5.545916670596773\n"
     ]
    }
   ],
   "source": [
    "from pyspark.sql import SparkSession\n",
    "from pyspark.ml.feature import VectorAssembler, StandardScaler\n",
    "from pyspark.ml.regression import LinearRegression\n",
    "from pyspark.ml import Pipeline\n",
    "from pyspark.ml.evaluation import RegressionEvaluator\n",
    "\n",
    "\n",
    "spark = SparkSession.builder.getOrCreate()\n",
    "\n",
    "num_samples = 1000\n",
    "simulated_data = (spark.range(num_samples)\n",
    "                  .selectExpr(\n",
    "                      \"id as id\",\n",
    "                      \"(RAND() * 10) as feature1\",\n",
    "                      \"(RAND() * 5) as feature2\",\n",
    "                      \"(RAND() * 20 - 10) as label\"))\n",
    "                  \n",
    "train_ratio = 0.8\n",
    "test_ratio = 1 - train_ratio\n",
    "training_data, testing_data = simulated_data.randomSplit(\n",
    "    [train_ratio, test_ratio], seed=87)\n",
    "\n",
    "assembler = VectorAssembler(\n",
    "    inputCols=[\"feature1\", \"feature2\"],\n",
    "    outputCol=\"features\")\n",
    "\n",
    "scaler = StandardScaler(inputCol=\"features\",\n",
    "                        outputCol=\"scaledFeatures\")\n",
    "\n",
    "regression = LinearRegression(\n",
    "    featuresCol=\"scaledFeatures\",\n",
    "    labelCol=\"label\")\n",
    "\n",
    "stages = [assembler, scaler, regression]\n",
    "\n",
    "pipeline = Pipeline(stages=stages)\n",
    "\n",
    "pipeline_model = pipeline.fit(training_data)\n",
    "\n",
    "coefficients = pipeline_model.stages[-1].coefficients\n",
    "intercept = pipeline_model.stages[-1].intercept\n",
    "print(\"Coefficients: \", coefficients)\n",
    "print(\"Intercept: \", intercept)\n",
    "\n",
    "preds = pipeline_model.transform(testing_data)\n",
    "\n",
    "preds.select(\"features\", \"label\", \"prediction\").show(5)\n",
    "\n",
    "evaluator = RegressionEvaluator(\n",
    "    predictionCol=\"prediction\", labelCol=\"label\", metricName=\"rmse\")\n",
    "rmse = evaluator.evaluate(preds)\n",
    "print(\"RMSE: \", rmse)"
   ]
  }
 ],
 "metadata": {
  "kernelspec": {
   "display_name": "spark_scikit",
   "language": "python",
   "name": "python3"
  },
  "language_info": {
   "codemirror_mode": {
    "name": "ipython",
    "version": 3
   },
   "file_extension": ".py",
   "mimetype": "text/x-python",
   "name": "python",
   "nbconvert_exporter": "python",
   "pygments_lexer": "ipython3",
   "version": "3.12.2"
  }
 },
 "nbformat": 4,
 "nbformat_minor": 2
}
