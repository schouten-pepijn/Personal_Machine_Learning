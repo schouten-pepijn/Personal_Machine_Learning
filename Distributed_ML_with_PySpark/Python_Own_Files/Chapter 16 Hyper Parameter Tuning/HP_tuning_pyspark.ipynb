{
 "cells": [
  {
   "cell_type": "code",
   "execution_count": null,
   "metadata": {},
   "outputs": [
    {
     "name": "stderr",
     "output_type": "stream",
     "text": [
      "24/10/26 13:30:06 WARN Utils: Your hostname, Pepijn-Air.local resolves to a loopback address: 127.0.0.1; using 192.168.2.5 instead (on interface en0)\n",
      "24/10/26 13:30:06 WARN Utils: Set SPARK_LOCAL_IP if you need to bind to another address\n",
      "Setting default log level to \"WARN\".\n",
      "To adjust logging level use sc.setLogLevel(newLevel). For SparkR, use setLogLevel(newLevel).\n",
      "24/10/26 13:30:06 WARN NativeCodeLoader: Unable to load native-hadoop library for your platform... using builtin-java classes where applicable\n",
      "                                                                                \r"
     ]
    }
   ],
   "source": [
    "from pyspark.sql import SparkSession\n",
    "from pyspark.ml.feature import VectorAssembler\n",
    "from pyspark.ml.classification import RandomForestClassifier\n",
    "from pyspark.ml.evaluation import MulticlassClassificationEvaluator\n",
    "from pyspark.ml.tuning import CrossValidator, ParamGridBuilder\n",
    "\n",
    "from sklearn.datasets import load_iris\n",
    "from sklearn.model_selection import train_test_split\n",
    "from sklearn.metrics import accuracy_score\n",
    "import pandas as pd\n",
    "\n",
    "iris_data = load_iris()\n",
    "X = iris_data.data\n",
    "y = iris_data.target\n",
    "\n",
    "spark = SparkSession.builder.getOrCreate()\n",
    "\n",
    "iris_pandas = pd.DataFrame(\n",
    "    data=X,\n",
    "    columns=iris_data.feature_names)\n",
    "iris_pandas[\"label\"] = y\n",
    "\n",
    "iris_df = spark.createDataFrame(iris_pandas)\n",
    "\n",
    "feature_cols = iris_data.feature_names\n",
    "assembler = VectorAssembler(inputCols=feature_cols, outputCol=\"features\")\n",
    "iris_df = assembler.transform(iris_df)\n",
    "\n",
    "X_train, X_test = iris_df.randomSplit([0.8, 0.2], seed=87)\n",
    "\n",
    "spark.conf.set(\"spark.seed\", 87)\n",
    "rf = RandomForestClassifier(featuresCol=\"features\",\n",
    "                            labelCol=\"label\")\n",
    "\n",
    "param_grid = (ParamGridBuilder()\n",
    "              .addGrid(rf.maxDepth, [2, 5, 7, 10])\n",
    "              .addGrid(rf.numTrees, [20, 50, 75, 100])\n",
    "              .addGrid(rf.minInstancesPerNode, [2, 3, 5,  10])\n",
    "              .addGrid(rf.minInfoGain, [0.0, 0.01, 0.02, 0.03])\n",
    "              .build())\n",
    "\n",
    "evaluator = MulticlassClassificationEvaluator(metricName=\"accuracy\")\n",
    "\n",
    "cv = CrossValidator(estimator=rf,\n",
    "                    estimatorParamMaps=param_grid,\n",
    "                    evaluator=evaluator,\n",
    "                    numFolds=5)\n",
    "\n",
    "cv_model = cv.fit(X_train)\n",
    "\n",
    "best_model = cv_model.bestModel\n",
    "best_max_depth = best_model.getMaxDepth()\n",
    "best_num_trees = best_model.getNumTrees()\n",
    "best_min_samples_split = best_model.getMinInstancesPerNode()\n",
    "best_min_info_gain = best_model.getMinInfoGain()\n",
    "\n",
    "predictions = best_model.transform(X_test)\n",
    "\n",
    "accuracy = evaluator.evaluate(predictions)\n",
    "\n",
    "print(f\"Test Accuracy: {accuracy}\")\n",
    "print(\"Best max_depth: \", best_max_depth)\n",
    "print(\"Best n_estimators: \", best_num_trees)\n",
    "print(\"Best min_samples_split: \", best_min_samples_split)\n",
    "print(\"Best min_info_gain: \", best_min_info_gain)"
   ]
  }
 ],
 "metadata": {
  "kernelspec": {
   "display_name": "spark_scikit",
   "language": "python",
   "name": "python3"
  },
  "language_info": {
   "codemirror_mode": {
    "name": "ipython",
    "version": 3
   },
   "file_extension": ".py",
   "mimetype": "text/x-python",
   "name": "python",
   "nbconvert_exporter": "python",
   "pygments_lexer": "ipython3",
   "version": "3.12.2"
  }
 },
 "nbformat": 4,
 "nbformat_minor": 2
}
