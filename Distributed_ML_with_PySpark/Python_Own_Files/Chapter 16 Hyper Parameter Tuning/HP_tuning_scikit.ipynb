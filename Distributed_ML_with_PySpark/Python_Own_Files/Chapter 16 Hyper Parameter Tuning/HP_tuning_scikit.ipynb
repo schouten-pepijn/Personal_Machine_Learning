{
 "cells": [
  {
   "cell_type": "code",
   "execution_count": 3,
   "metadata": {},
   "outputs": [
    {
     "name": "stdout",
     "output_type": "stream",
     "text": [
      "Test Accuracy: 0.9736842105263158\n",
      "Best max_depth: 5\n",
      "Best n_estimators: 20\n",
      "Best min_samples_split: 2\n",
      "Best min_samples_leaf: 2\n"
     ]
    },
    {
     "name": "stderr",
     "output_type": "stream",
     "text": [
      "/opt/miniconda3/envs/spark_scikit/lib/python3.12/site-packages/numpy/ma/core.py:2820: RuntimeWarning: invalid value encountered in cast\n",
      "  _data = np.array(data, dtype=dtype, copy=copy,\n"
     ]
    }
   ],
   "source": [
    "from sklearn.datasets import load_iris\n",
    "from sklearn.ensemble import RandomForestClassifier\n",
    "from sklearn.model_selection import train_test_split, GridSearchCV\n",
    "from sklearn.metrics import accuracy_score\n",
    "\n",
    "iris_sklearn = load_iris()\n",
    "X = iris_sklearn.data\n",
    "y = iris_sklearn.target\n",
    "\n",
    "X_train, X_test, y_train, y_test = train_test_split(X, y,\n",
    "                                                    random_state=87)\n",
    "\n",
    "rf = RandomForestClassifier(random_state=87)\n",
    "\n",
    "param_grid = {\n",
    "    \"max_depth\": [2, 5, 7, 10],\n",
    "    \"n_estimators\": [20, 50, 75, 100],\n",
    "    \"min_samples_split\": [2, 3, 5, 10],\n",
    "    \"min_samples_leaf\": [1, 2, 3, 4],\n",
    "}\n",
    "\n",
    "grid_search = GridSearchCV(rf, param_grid=param_grid,\n",
    "                           cv=5)\n",
    "\n",
    "grid_search.fit(X_train, y_train)\n",
    "\n",
    "# extract best model\n",
    "best_model = grid_search.best_estimator_\n",
    "best_max_depth = grid_search.best_params_[\"max_depth\"]\n",
    "best_num_estimators = grid_search.best_params_[\"n_estimators\"]\n",
    "best_min_samples_split = grid_search.best_params_[\"min_samples_split\"]\n",
    "best_min_samples_leaf = grid_search.best_params_[\"min_samples_leaf\"]\n",
    "\n",
    "# prediction\n",
    "y_pred = best_model.predict(X_test)\n",
    "\n",
    "# evaluation\n",
    "accuracy = accuracy_score(y_test, y_pred)\n",
    "print(f\"Test Accuracy: {accuracy}\")\n",
    "\n",
    "# some model info\n",
    "print(f\"Best max_depth: {best_max_depth}\")\n",
    "print(f\"Best n_estimators: {best_num_estimators}\")\n",
    "print(f\"Best min_samples_split: {best_min_samples_split}\")\n",
    "print(f\"Best min_samples_leaf: {best_min_samples_leaf}\")"
   ]
  }
 ],
 "metadata": {
  "kernelspec": {
   "display_name": "spark_scikit",
   "language": "python",
   "name": "python3"
  },
  "language_info": {
   "codemirror_mode": {
    "name": "ipython",
    "version": 3
   },
   "file_extension": ".py",
   "mimetype": "text/x-python",
   "name": "python",
   "nbconvert_exporter": "python",
   "pygments_lexer": "ipython3",
   "version": "3.12.2"
  }
 },
 "nbformat": 4,
 "nbformat_minor": 2
}
