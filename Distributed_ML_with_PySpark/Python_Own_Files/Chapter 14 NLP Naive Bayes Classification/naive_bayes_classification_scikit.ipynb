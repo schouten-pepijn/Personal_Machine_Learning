{
 "cells": [
  {
   "cell_type": "code",
   "execution_count": 2,
   "metadata": {},
   "outputs": [
    {
     "name": "stderr",
     "output_type": "stream",
     "text": [
      "[nltk_data] Downloading package stopwords to\n",
      "[nltk_data]     /Users/pepijnschouten/nltk_data...\n",
      "[nltk_data]   Package stopwords is already up-to-date!\n"
     ]
    },
    {
     "data": {
      "text/plain": [
       "True"
      ]
     },
     "execution_count": 2,
     "metadata": {},
     "output_type": "execute_result"
    }
   ],
   "source": [
    "import nltk\n",
    "from sklearn.datasets import fetch_20newsgroups\n",
    "from sklearn.feature_extraction.text import TfidfVectorizer\n",
    "from sklearn.naive_bayes import MultinomialNB\n",
    "from sklearn.metrics import accuracy_score\n",
    "from sklearn.model_selection import train_test_split\n",
    "import string\n",
    "\n",
    "nltk.download('stopwords')"
   ]
  },
  {
   "cell_type": "code",
   "execution_count": 3,
   "metadata": {},
   "outputs": [],
   "source": [
    "categories = ['alt.atheism', 'comp.graphics',\n",
    "'comp.os.ms-windows.misc', 'comp.sys.ibm.pc.hardware',\n",
    "'comp.sys.mac.hardware', 'comp.windows.x', 'misc.forsale',\n",
    "'rec.autos','rec.motorcycles', 'rec.sport.baseball', 'rec.sport.hockey',\n",
    "'sci.crypt', 'sci.electronics', 'sci.med', 'sci.space',\n",
    "'soc.religion.christian', 'talk.politics.guns',\n",
    "'talk.politics.mideast', 'talk.politics.misc', 'talk.religion.misc']\n",
    "\n",
    "newsgroup_data = fetch_20newsgroups(\n",
    "    subset='all', \n",
    "    remove=('headers', 'footers', 'quotes'),\n",
    "    shuffle=True,\n",
    "    random_state=87)\n",
    "\n",
    "X_train, X_test, y_train, y_test = train_test_split(\n",
    "    newsgroup_data.data,\n",
    "    newsgroup_data.target,\n",
    "    test_size=0.2,\n",
    "    random_state=87)"
   ]
  },
  {
   "cell_type": "code",
   "execution_count": null,
   "metadata": {},
   "outputs": [
    {
     "name": "stderr",
     "output_type": "stream",
     "text": [
      "/opt/miniconda3/envs/spark_scikit/lib/python3.12/site-packages/sklearn/feature_extraction/text.py:521: UserWarning: The parameter 'token_pattern' will not be used since 'tokenizer' is not None'\n",
      "  warnings.warn(\n"
     ]
    }
   ],
   "source": [
    "def tokenize(text):\n",
    "    tokens = nltk.word_tokenize(text)\n",
    "    stop_words = set(nltk.corpus.stopwords.words('english'))\n",
    "    punctuations = set(string.punctuation)\n",
    "    filtered_tokens = [token for token in tokens\n",
    "                       if token.lower() not in stop_words\n",
    "                       and token not in punctuations]\n",
    "    return filtered_tokens\n",
    "\n",
    "vectorizer = TfidfVectorizer(\n",
    "    stop_words='english',\n",
    "    tokenizer=tokenize,)\n",
    "\n",
    "X_train_vectors = vectorizer.fit_transform(X_train)\n",
    "X_test_vectors = vectorizer.transform(X_test)"
   ]
  },
  {
   "cell_type": "code",
   "execution_count": 8,
   "metadata": {},
   "outputs": [
    {
     "name": "stdout",
     "output_type": "stream",
     "text": [
      "-----------------------------------\n",
      "Actual: comp.sys.mac.hardware\n",
      "Predicted: comp.sys.mac.hardware\n",
      "-----------------------------------\n",
      "Actual: rec.motorcycles\n",
      "Predicted: rec.motorcycles\n",
      "-----------------------------------\n",
      "Actual: soc.religion.christian\n",
      "Predicted: sci.med\n",
      "-----------------------------------\n",
      "Actual: alt.atheism\n",
      "Predicted: soc.religion.christian\n",
      "-----------------------------------\n",
      "Actual: comp.sys.mac.hardware\n",
      "Predicted: comp.sys.mac.hardware\n",
      "-----------------------------------\n",
      "Accuracy: 0.7124668435013263\n",
      "-----------------------------------\n"
     ]
    }
   ],
   "source": [
    "clf = MultinomialNB()\n",
    "clf.fit(X_train_vectors, y_train)\n",
    "y_pred = clf.predict(X_test_vectors)\n",
    "\n",
    "print(\"-\" * 35)\n",
    "for i in range(5):\n",
    "    actual_label = newsgroup_data.target_names[y_test[i]]\n",
    "    predicted_label = newsgroup_data.target_names[y_pred[i]]\n",
    "    print(\"Actual:\", actual_label)\n",
    "    print(\"Predicted:\", predicted_label)\n",
    "    print(\"-\" * 35)\n",
    "    \n",
    "accuracy = accuracy_score(y_test, y_pred)\n",
    "print(\"Accuracy:\", accuracy)\n",
    "print(\"-\" * 35)"
   ]
  }
 ],
 "metadata": {
  "kernelspec": {
   "display_name": "spark_scikit",
   "language": "python",
   "name": "python3"
  },
  "language_info": {
   "codemirror_mode": {
    "name": "ipython",
    "version": 3
   },
   "file_extension": ".py",
   "mimetype": "text/x-python",
   "name": "python",
   "nbconvert_exporter": "python",
   "pygments_lexer": "ipython3",
   "version": "3.12.2"
  }
 },
 "nbformat": 4,
 "nbformat_minor": 2
}
