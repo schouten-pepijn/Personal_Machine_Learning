{
 "cells": [
  {
   "cell_type": "code",
   "execution_count": null,
   "metadata": {},
   "outputs": [],
   "source": [
    "\n",
    "\"\"\" \n",
    "Scikit-learn Pipeline structure\n",
    "\n",
    "    from sklearn.pipeline import Pipeline\n",
    "    from sklearn.preprocessing import ..\n",
    "    from sklearn.feature_selection import ..\n",
    "    from sklearn.linear_model import ..\n",
    "\n",
    "    steps = [('preprocessing', PreprocessingStep()),\n",
    "             ('feature_selection', FeatureSelectionStep()),\n",
    "             ('regressor', RegressorStep())]\n",
    "\n",
    "    pipeline = Pipeline(steps)\n",
    "\n",
    "    pipeline.fit(X_train, y_train)\n",
    "    y_pred  = pipeline.predict(X_test)\n",
    "\"\"\"\n",
    "\n",
    "\"\"\" \n",
    "PySpark Pipeline structure\n",
    "\n",
    "    from pyspark.ml import Pipeline\n",
    "    from pyspark.ml.feature import ..\n",
    "    from pyspark.ml.regression import ..\n",
    "\n",
    "    stages = [PreprocessingStep(),\n",
    "              FeatureSelectionStep(),\n",
    "              RegressorStep()]\n",
    "\n",
    "    pipeline = Pipeline(stages=stages)\n",
    "\n",
    "    pipeline_model = pipeline.fit(train_data)\n",
    "\n",
    "    predictions  = pipeline_model.transform(test_data)\n",
    "\"\"\"\n"
   ]
  }
 ],
 "metadata": {
  "kernelspec": {
   "display_name": "spark_scikit",
   "language": "python",
   "name": "python3"
  },
  "language_info": {
   "name": "python",
   "version": "3.12.7"
  }
 },
 "nbformat": 4,
 "nbformat_minor": 2
}
