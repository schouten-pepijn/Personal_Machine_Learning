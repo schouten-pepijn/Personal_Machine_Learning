{
 "cells": [
  {
   "cell_type": "code",
   "execution_count": null,
   "metadata": {},
   "outputs": [],
   "source": [
    "from matplotlib import pyplot as plt\n",
    "import statsmodels.api as sm\n",
    "from statsmodels.multivariate.pca import PCA\n",
    "\n",
    "plt.style.use('seaborn-v0_8')"
   ]
  },
  {
   "cell_type": "code",
   "execution_count": null,
   "metadata": {},
   "outputs": [],
   "source": [
    "data = sm.datasets.fertility.load_pandas().data\n",
    "\n",
    "print(data.columns)\n",
    "print(data.head(5))"
   ]
  },
  {
   "cell_type": "code",
   "execution_count": null,
   "metadata": {},
   "outputs": [],
   "source": [
    "columns = list(map(str, range(1960, 2012)))\n",
    "data = data.set_index(\"Country Name\")\n",
    "dta = data[columns]\n",
    "dta = dta.dropna()\n",
    "\n",
    "print(dta.head())"
   ]
  },
  {
   "cell_type": "markdown",
   "metadata": {},
   "source": [
    "PCA (removes the main trend)\n",
    "- goal: reduce yearly fertility rate values"
   ]
  },
  {
   "cell_type": "code",
   "execution_count": null,
   "metadata": {},
   "outputs": [],
   "source": [
    "# plot main trend for reference\n",
    "plt.figure(tight_layout=True)\n",
    "plt.plot(dta.mean())\n",
    "plt.xticks(rotation=90)\n",
    "plt.xlabel(\"Year\")\n",
    "plt.ylabel(\"Fertility rate\")\n",
    "plt.plot()"
   ]
  },
  {
   "cell_type": "code",
   "execution_count": null,
   "metadata": {},
   "outputs": [],
   "source": [
    "# perform PCA\n",
    "pca_model = PCA(dta.T, standardize=False, demean=True)"
   ]
  },
  {
   "cell_type": "code",
   "execution_count": null,
   "metadata": {},
   "outputs": [],
   "source": [
    "# plot eigenvalues\n",
    "plt.figure(tight_layout=True)\n",
    "plt.plot(pca_model.eigenvals,\n",
    "         marker='o',\n",
    "         linestyle='')\n",
    "plt.title('First Principal Component dominates')\n",
    "plt.show()"
   ]
  },
  {
   "cell_type": "code",
   "execution_count": null,
   "metadata": {},
   "outputs": [],
   "source": [
    "# plot PC factors\n",
    "plt.figure(tight_layout=True)\n",
    "lines = plt.plot(pca_model.factors.iloc[:, :3],\n",
    "         lw=3, alpha=0.7)\n",
    "plt.legend(lines, ['PC1', 'PC2', 'PC3'])\n",
    "plt.xticks(rotation=90)\n",
    "plt.show()"
   ]
  },
  {
   "cell_type": "code",
   "execution_count": null,
   "metadata": {},
   "outputs": [],
   "source": [
    "# find matching trend lines for each country with PC factors\n",
    "idx_1 = pca_model.loadings.iloc[:, 0].argsort()\n",
    "labels_1 = dta.index[idx_1[-5:]]\n",
    "print('PC1:', labels_1.values)\n",
    "\n",
    "idx_2 = pca_model.loadings.iloc[:, 1].argsort()\n",
    "labels_2 = pca_model.loadings.index[idx_2[-5:]]\n",
    "print('PC2', labels_2.values)\n",
    "\n",
    "idx_3 = pca_model.loadings.iloc[:, 2].argsort()\n",
    "labels_3 = pca_model.loadings.index[idx_3[-5:]]\n",
    "print('PC3', labels_3.values)"
   ]
  },
  {
   "cell_type": "code",
   "execution_count": null,
   "metadata": {},
   "outputs": [],
   "source": [
    "fig, ax = plt.subplots(\n",
    "    nrows=3, ncols=1, figsize=[10, 10],\n",
    "    tight_layout=True, sharex=True, sharey=True)\n",
    "\n",
    "ax[0].plot(dta.loc[labels_1].T)\n",
    "ax[1].plot(dta.loc[labels_2].T)  \n",
    "ax[2].plot(dta.loc[labels_3].T)\n",
    "\n",
    "for axs in ax.flat:\n",
    "    axs.plot(dta.mean())\n",
    "    \n",
    "ax[0].set_title(', '.join(labels_1.values))\n",
    "ax[1].set_title(', '.join(labels_2.values))\n",
    "ax[2].set_title(', '.join(labels_3.values))\n",
    "\n",
    "plt.xticks(rotation=90)\n",
    "plt.show()"
   ]
  },
  {
   "cell_type": "code",
   "execution_count": null,
   "metadata": {},
   "outputs": [],
   "source": [
    "plt.figure()\n",
    "plt.scatter(pca_model.loadings.comp_00.values,\n",
    "         pca_model.loadings.comp_01.values,)\n",
    "plt.xlabel('PC1')\n",
    "plt.ylabel('PC2')\n",
    "outliers = dta.index[pca_model.loadings.iloc[:, 1] > 0.2].values\n",
    "plt.title('PC2 > 0.2: ' + ', '.join(outliers))\n",
    "plt.show()\n"
   ]
  },
  {
   "cell_type": "code",
   "execution_count": null,
   "metadata": {},
   "outputs": [],
   "source": []
  }
 ],
 "metadata": {
  "kernelspec": {
   "display_name": "spark_scikit",
   "language": "python",
   "name": "python3"
  },
  "language_info": {
   "codemirror_mode": {
    "name": "ipython",
    "version": 3
   },
   "file_extension": ".py",
   "mimetype": "text/x-python",
   "name": "python",
   "nbconvert_exporter": "python",
   "pygments_lexer": "ipython3",
   "version": "3.12.2"
  }
 },
 "nbformat": 4,
 "nbformat_minor": 2
}
