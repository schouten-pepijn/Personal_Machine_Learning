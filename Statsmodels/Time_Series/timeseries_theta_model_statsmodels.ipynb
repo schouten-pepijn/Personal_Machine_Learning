{
 "cells": [
  {
   "cell_type": "markdown",
   "metadata": {},
   "source": [
    "Theta model \n",
    "\n",
    "Steps:\n",
    "- Test for seasonality\n",
    "- Deseasonalize if needed\n",
    "- estimate alpha by fitting SES model and beta with OLS\n",
    "- Forecast series\n",
    "- Reseasonalize if needed"
   ]
  },
  {
   "cell_type": "code",
   "execution_count": null,
   "metadata": {},
   "outputs": [],
   "source": [
    "from matplotlib import pyplot as plt\n",
    "import numpy as np\n",
    "import pandas as pd\n",
    "import pandas_datareader as pdr\n",
    "import seaborn as sns\n",
    "from statsmodels.tsa.forecasting.theta import ThetaModel\n",
    "\n",
    "plt.rc(\"figure\", figsize=(16, 8))\n",
    "plt.rc(\"font\", size=15)\n",
    "plt.rc(\"lines\", linewidth=3)\n",
    "sns.set_style(\"darkgrid\")"
   ]
  },
  {
   "cell_type": "markdown",
   "metadata": {},
   "source": [
    "Data"
   ]
  },
  {
   "cell_type": "code",
   "execution_count": null,
   "metadata": {},
   "outputs": [],
   "source": [
    "reader = pdr.fred.FredReader(\n",
    "    [\"HOUST\"], start=\"1980-01-01\", end=\"2020-04-01\"\n",
    ")\n",
    "data = reader.read()\n",
    "housing = data.HOUST\n",
    "housing.index.freq = housing.index.inferred_freq\n",
    "\n",
    "plt.figure()\n",
    "plt.plot(housing)\n",
    "plt.xlabel(\"DATE\")\n",
    "plt.plot()"
   ]
  },
  {
   "cell_type": "markdown",
   "metadata": {},
   "source": [
    "Fit theta model"
   ]
  },
  {
   "cell_type": "code",
   "execution_count": null,
   "metadata": {},
   "outputs": [],
   "source": [
    "tm = ThetaModel(housing)\n",
    "result = tm.fit()\n",
    "\n",
    "print(result.summary())"
   ]
  },
  {
   "cell_type": "markdown",
   "metadata": {},
   "source": [
    "Hedgehog plot of forecast"
   ]
  },
  {
   "cell_type": "code",
   "execution_count": null,
   "metadata": {},
   "outputs": [],
   "source": [
    "forecasts = {\"housing\": housing}\n",
    "forecast_period = 24\n",
    "year_range = list(map(str, range(1990, 2020, 2)))\n",
    "\n",
    "# loop data\n",
    "for year in year_range:\n",
    "    sub_selection = housing[:year]\n",
    "    results = ThetaModel(sub_selection).fit()\n",
    "    \n",
    "    fcast = results.forecast(forecast_period)\n",
    "    forecasts[year] = fcast\n",
    "forecasts = pd.DataFrame(forecasts)"
   ]
  },
  {
   "cell_type": "code",
   "execution_count": null,
   "metadata": {},
   "outputs": [],
   "source": [
    "# show plot\n",
    "fig, ax = plt.subplots()\n",
    "ax.plot(housing[year_range[0]:],\n",
    "        color='grey')\n",
    "for year in year_range:\n",
    "    ax.plot(forecasts[[year]])\n",
    "ax.set_title(\"Housing Starts\")\n",
    "plt.tight_layout(pad=1.0)\n",
    "plt.show()"
   ]
  },
  {
   "cell_type": "markdown",
   "metadata": {},
   "source": [
    "Personal expenditures data"
   ]
  },
  {
   "cell_type": "code",
   "execution_count": null,
   "metadata": {},
   "outputs": [],
   "source": [
    "reader = pdr.fred.FredReader(\n",
    "    ['NA000349Q'], start='1980-01-01', end='2020-04-01'\n",
    ")\n",
    "pce = reader.read()\n",
    "pce.columns = ['PCE']\n",
    "pce.index.freq = 'QS-OCT'\n",
    "\n",
    "print(pce.head())\n",
    "\n",
    "plt.figure()\n",
    "plt.plot(pce, label='PCE')\n",
    "plt.legend()\n",
    "plt.xlabel('DATE')\n",
    "plt.show()"
   ]
  },
  {
   "cell_type": "code",
   "execution_count": null,
   "metadata": {},
   "outputs": [],
   "source": [
    "# model ln since series is always positive\n",
    "pce_log = np.log(pce)\n",
    "tm = ThetaModel(pce_log)\n",
    "result = tm.fit()\n",
    "\n",
    "print(result.summary())"
   ]
  },
  {
   "cell_type": "code",
   "execution_count": null,
   "metadata": {},
   "outputs": [],
   "source": [
    "# exploring different theta values\n",
    "forecasts = pd.DataFrame(pce_log).rename(columns={'PCE': 'pce_ln'}).copy()\n",
    "\n",
    "theta_range = [1, 2, 3, 4, np.inf]\n",
    "for theta in theta_range:\n",
    "    forecasts = pd.concat(\n",
    "        [forecasts,result.forecast(12, theta=theta)], axis=1\n",
    "        ).rename(\n",
    "            columns={'forecast': f'theta_{theta}'})"
   ]
  },
  {
   "cell_type": "code",
   "execution_count": null,
   "metadata": {},
   "outputs": [],
   "source": [
    "fig, ax = plt.subplots(dpi=100, tight_layout=True)\n",
    "ax.plot(pce_log, color='grey', label='data')\n",
    "for theta in theta_range:\n",
    "    ax.plot(forecasts[f'theta_{theta}'],\n",
    "            label=f'theta={theta}')\n",
    "ax.set_title(\"PCE\")\n",
    "plt.xlim([forecasts.index[-36],\n",
    "          forecasts.index[-1]])\n",
    "plt.ylim([14.9, 15.2])\n",
    "# plt.tight_layout(pad=1.0)\n",
    "plt.legend()\n",
    "plt.show()"
   ]
  },
  {
   "cell_type": "code",
   "execution_count": null,
   "metadata": {},
   "outputs": [],
   "source": [
    "_ = results.plot_predict(24, theta=2)"
   ]
  }
 ],
 "metadata": {
  "kernelspec": {
   "display_name": "nixtla",
   "language": "python",
   "name": "python3"
  },
  "language_info": {
   "codemirror_mode": {
    "name": "ipython",
    "version": 3
   },
   "file_extension": ".py",
   "mimetype": "text/x-python",
   "name": "python",
   "nbconvert_exporter": "python",
   "pygments_lexer": "ipython3",
   "version": "3.12.7"
  }
 },
 "nbformat": 4,
 "nbformat_minor": 2
}
