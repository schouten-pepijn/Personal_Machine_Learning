{
 "cells": [
  {
   "cell_type": "markdown",
   "metadata": {},
   "source": [
    "Link: https://www.kaggle.com/code/toufikalhajj/bitcoin-prediction-2025-2026-time-series-analysis"
   ]
  },
  {
   "cell_type": "code",
   "execution_count": null,
   "metadata": {},
   "outputs": [],
   "source": [
    "from pyspark.sql import SparkSession, Window\n",
    "import pyspark.sql.functions as F\n",
    "from pyspark.sql.types import DoubleType\n",
    "import pandas as pd\n",
    "import pyspark.pandas as ps\n",
    "import matplotlib.pyplot as plt\n",
    "from datetime import datetime, timedelta\n",
    "from scipy.stats import boxcox\n",
    "from statsmodels.tsa.seasonal import seasonal_decompose\n",
    "from statsmodels.tsa.stattools import adfuller\n",
    "from statsmodels.tsa.stattools import kpss\n",
    "import statsmodels.api as sm\n",
    "import numpy as np\n",
    "\n",
    "plt.style.use('seaborn-v0_8')\n",
    "\n",
    "\n",
    "spark = SparkSession.builder.appName(\"Bitcoin\").getOrCreate()"
   ]
  },
  {
   "cell_type": "markdown",
   "metadata": {},
   "source": [
    "Data preparation"
   ]
  },
  {
   "cell_type": "code",
   "execution_count": null,
   "metadata": {},
   "outputs": [],
   "source": [
    "data_path = \"/Users/pepijnschouten/Desktop/Python_Scripts/\" \\\n",
    "      \"Python_scripts_Varia/Timeseries/crypto_tsa/\" \\\n",
    "            \"sarimax_btc_example/data/btcusd_1-min_data.csv\"\n",
    "    \n",
    "df = (spark\n",
    "      .read\n",
    "      .csv(data_path, header=True, inferSchema=True)\n",
    "      .withColumnRenamed(\"Timestamp\", \"Unix Timestamp\")\n",
    ")\n",
    "\n",
    "df.printSchema()"
   ]
  },
  {
   "cell_type": "code",
   "execution_count": null,
   "metadata": {},
   "outputs": [],
   "source": [
    "df = df.withColumn(\"Timestamp\",\n",
    "                   F.from_unixtime(\"Unix Timestamp\", \"yyyy-MM-dd HH:mm:ss\"))\n",
    "\n",
    "df.show()"
   ]
  },
  {
   "cell_type": "code",
   "execution_count": null,
   "metadata": {},
   "outputs": [],
   "source": [
    "# calculate mean price\n",
    "df = df.withColumn(\"Avg Price\",\n",
    "                   F.expr(\"+\".join(['Open', 'High', 'Low', 'Close'])) / 4\n",
    "                   )\n",
    "\n",
    "df.show()\n",
    "\n",
    "df.select(\"Avg Price\").summary().show()\n",
    "df.summary(\"count\").show()"
   ]
  },
  {
   "cell_type": "code",
   "execution_count": null,
   "metadata": {},
   "outputs": [],
   "source": [
    "# filter null values\n",
    "df = df.filter(F.col(\"Unix Timestamp\").isNotNull())"
   ]
  },
  {
   "cell_type": "code",
   "execution_count": null,
   "metadata": {},
   "outputs": [],
   "source": [
    "# Plot the data\n",
    "ps.DataFrame(df).plot(x=\"Timestamp\", y=\"Avg Price\")"
   ]
  },
  {
   "cell_type": "code",
   "execution_count": null,
   "metadata": {},
   "outputs": [],
   "source": [
    "# convert to pandas\n",
    "df_pandas = df.select(\"Unix Timestamp\", \"Avg Price\").toPandas()\n",
    "\n",
    "df_pandas['Timestamp'] = pd.to_datetime(df_pandas['Unix Timestamp'], unit=\"s\")\n",
    "df_pandas = df_pandas.set_index('Timestamp').drop('Unix Timestamp', axis=1)"
   ]
  },
  {
   "cell_type": "code",
   "execution_count": null,
   "metadata": {},
   "outputs": [],
   "source": [
    "df_truncate = df_pandas.truncate(before=datetime(2017, 1, 1, 0, 0, 0),\n",
    "                                #   after=datetime(2022, 1, 1, 0, 0, 0)\n",
    ")\n",
    "\n",
    "# df_truncate = df_pandas\n",
    "\n",
    "print(df_truncate.head())"
   ]
  },
  {
   "cell_type": "code",
   "execution_count": null,
   "metadata": {},
   "outputs": [],
   "source": [
    "# resample the data\n",
    "df_D = df_truncate.resample('D').mean()\n",
    "df_M = df_truncate.resample('ME').mean()\n",
    "df_Q = df_truncate.resample('QE').mean()\n",
    "df_Y = df_truncate.resample('YE').mean()\n",
    "\n",
    "df_dict = {\"Days\": df_D, \"Months\": df_M, \"Quarters\": df_Q, \"Years\": df_Y}\n",
    "\n",
    "fig, axs = plt.subplots(2, 2,\n",
    "                       figsize=(20, 10),\n",
    "                       tight_layout=True,\n",
    "                       sharey=True,)\n",
    "\n",
    "for (k, v), ax in zip(df_dict.items(), axs.flat):\n",
    "    v.plot(ax=ax)\n",
    "    ax.set_title(k)\n",
    "    ax.grid(True, color='k', linewidth=0.5)\n",
    "\n",
    "plt.show()\n",
    "\n"
   ]
  },
  {
   "cell_type": "markdown",
   "metadata": {},
   "source": [
    "Autoregressive model (AR)"
   ]
  },
  {
   "cell_type": "markdown",
   "metadata": {},
   "source": [
    "Check stationarity of the time series (Dickey-Fuller, KPSS)"
   ]
  },
  {
   "cell_type": "code",
   "execution_count": null,
   "metadata": {},
   "outputs": [],
   "source": [
    "# augmented dickey-fuller test (below 0.05)\n",
    "print(\"Dickey-Fuller test\")\n",
    "for k, v in df_dict.items():\n",
    "    p_value = adfuller(v, regression=\"ct\")[1]\n",
    "    p_bool = p_value <= 0.05\n",
    "    print(f\"{k:10} | {p_value:.4f} {\"<\" if p_bool else \">\"} 0.05 | Stationary: {p_value <= 0.05}\")\n",
    "\n",
    "# Kwiatkowski–Phillips–Schmidt–Shin (KPSS) tests (above 0.05)\n",
    "print(\"KPSS test\")\n",
    "for k, v in df_dict.items():\n",
    "    p_value = kpss(v)[1]\n",
    "    p_bool = p_value >= 0.05\n",
    "    print(f\"{k:10} | {p_value:.4f} {\">\" if p_bool else \"<\"} 0.05 | Stationary: {p_value >= 0.05}\")"
   ]
  },
  {
   "cell_type": "markdown",
   "metadata": {},
   "source": [
    "Seasonal decomposition of raw data"
   ]
  },
  {
   "cell_type": "code",
   "execution_count": null,
   "metadata": {},
   "outputs": [],
   "source": [
    "# seasional decomposition\n",
    "for k, v in df_dict.items():\n",
    "    result = seasonal_decompose(v, model='multiplicative')\n",
    "    \n",
    "    _, axs = plt.subplots(4, 1, sharex=True)\n",
    "    result.observed.plot(ax=axs[0])\n",
    "    axs[0].set_title('Observed')\n",
    "    \n",
    "    result.trend.plot(ax=axs[1])\n",
    "    axs[1].set_title('Trend')\n",
    "    \n",
    "    result.seasonal.plot(ax=axs[2])\n",
    "    axs[2].set_title('Seasonal')\n",
    "    \n",
    "    result.resid.plot(ax=axs[3])\n",
    "    axs[3].set_title('Residuals')\n",
    "    \n",
    "    for ax in axs:\n",
    "        ax.set_ylabel(\"Price\")\n",
    "    \n",
    "    plt.suptitle(k)\n",
    "    plt.show()"
   ]
  },
  {
   "cell_type": "code",
   "execution_count": null,
   "metadata": {},
   "outputs": [],
   "source": [
    "# drop years\n",
    "df_dict = {\"Days\": df_D, \"Months\": df_M, \"Quarters\": df_Q}"
   ]
  },
  {
   "cell_type": "markdown",
   "metadata": {},
   "source": [
    "Box-Cox Transformation"
   ]
  },
  {
   "cell_type": "code",
   "execution_count": null,
   "metadata": {},
   "outputs": [],
   "source": [
    "# boxcox\n",
    "for v in df_dict.values():\n",
    "    v['boxcox'] = boxcox(v['Avg Price'])[0]\n",
    "    \n",
    "# augmented dickey-fuller test (below 0.05)\n",
    "print(\"Dickey-Fuller test\")\n",
    "for k, v in df_dict.items():\n",
    "    p_value = adfuller(v['boxcox'], regression=\"ct\")[1]\n",
    "    p_bool = p_value <= 0.05\n",
    "    print(f\"{k:10} | {p_value:.4f} {\"<\" if p_bool else \">\"} 0.05 | Stationary: {p_value <= 0.05}\")"
   ]
  },
  {
   "cell_type": "code",
   "execution_count": null,
   "metadata": {},
   "outputs": [],
   "source": [
    "# boxcox with shift\n",
    "shift = 1\n",
    "for v in df_dict.values():\n",
    "    v['boxcox_diff'] = v['boxcox'] - v['boxcox'].shift(shift)\n",
    "    \n",
    "# augmented dickey-fuller test (below 0.05)\n",
    "print(\"Dickey-Fuller test\")\n",
    "for k, v in df_dict.items():\n",
    "    p_value = adfuller(v['boxcox_diff'][shift:], regression=\"ct\")[1]\n",
    "    p_bool = p_value <= 0.05\n",
    "    print(f\"{k:10} | {p_value:.4f} {\"<\" if p_bool else \">\"} 0.05 | Stationary: {p_value <= 0.05}\")"
   ]
  },
  {
   "cell_type": "code",
   "execution_count": null,
   "metadata": {},
   "outputs": [],
   "source": [
    "seasonal_decompose(df_M['boxcox_diff'][shift:], model='additive').plot()\n",
    "plt.show()"
   ]
  },
  {
   "cell_type": "markdown",
   "metadata": {},
   "source": [
    "ACF Plot (AutoCorrelationFunction)"
   ]
  },
  {
   "cell_type": "code",
   "execution_count": null,
   "metadata": {},
   "outputs": [],
   "source": [
    "fig, ax = plt.subplots(2, 1, tight_layout=True)\n",
    "sm.graphics.tsa.plot_acf(df_M['boxcox_diff'][shift:].values.squeeze(), lags=15, ax=ax[0])\n",
    "sm.graphics.tsa.plot_pacf(df_M['boxcox_diff'][shift:].values.squeeze(), lags=15, ax=ax[1])\n",
    "plt.show()"
   ]
  },
  {
   "cell_type": "markdown",
   "metadata": {},
   "source": [
    "Fitting the SARIMAX model (to-do)"
   ]
  },
  {
   "cell_type": "code",
   "execution_count": null,
   "metadata": {},
   "outputs": [],
   "source": [
    "import warnings\n",
    "import statsmodels.api as sm\n",
    "from itertools import product\n",
    "\n",
    "# Set up parameter ranges for the SARIMAX grid search\n",
    "Qs = range(0, 2)  # Seasonal AR order\n",
    "qs = range(0, 3)  # Non-seasonal AR order\n",
    "Ps = range(0, 3)  # Seasonal MA order\n",
    "ps = range(0, 3)  # Non-seasonal MA order\n",
    "\n",
    "# Seasonal difference (D) and non-seasonal difference (d) values\n",
    "D = 1\n",
    "d = 1\n",
    "\n",
    "# Generate all combinations of parameters for SARIMAX\n",
    "parameters = product(ps, qs, Ps, Qs)\n",
    "parameters_list = list(parameters)\n",
    "\n",
    "# Initialize variables to store the best model and results\n",
    "best_aic = float(\"inf\")\n",
    "best_model = None\n",
    "best_param = None\n",
    "results = []\n",
    "\n",
    "# Suppress warnings during the search to keep the output clean\n",
    "warnings.filterwarnings('ignore')\n",
    "\n",
    "# Grid search for optimal SARIMAX parameters\n",
    "for param in parameters_list:\n",
    "    try:\n",
    "        # Fit the SARIMAX model with current parameter combination\n",
    "        model = sm.tsa.statespace.SARIMAX(df_M['boxcox'], \n",
    "                                          order=(param[0], d, param[1]), \n",
    "                                          seasonal_order=(param[2], D, param[3], 12)).fit(disp=-1)\n",
    "        \n",
    "        # Extract the AIC of the current model\n",
    "        aic = model.aic\n",
    "        \n",
    "        # If the current model has a lower AIC, update the best model\n",
    "        if aic < best_aic:\n",
    "            best_aic = aic\n",
    "            best_model = model\n",
    "            best_param = param\n",
    "        \n",
    "        \n",
    "        results.append([param, aic])\n",
    "    \n",
    "    except ValueError as e:\n",
    "     \n",
    "        print(f\"Error with parameters {param}: {e}\")\n",
    "        continue\n",
    "\n",
    "# Display the best parameter combination and corresponding AIC\n",
    "print(f\"Best AIC: {best_aic} with parameters: {best_param}\")"
   ]
  },
  {
   "cell_type": "markdown",
   "metadata": {},
   "source": [
    "Inverse box-cox transformation function"
   ]
  },
  {
   "cell_type": "code",
   "execution_count": null,
   "metadata": {},
   "outputs": [],
   "source": [
    "def invboxcox(y,lmbda):\n",
    "    if lmbda == 0:\n",
    "        return(np.exp(y))\n",
    "    else:\n",
    "        return(np.exp(np.log(lmbda * y + 1) / lmbda))"
   ]
  },
  {
   "cell_type": "markdown",
   "metadata": {},
   "source": [
    "Future prediction"
   ]
  },
  {
   "cell_type": "code",
   "execution_count": null,
   "metadata": {},
   "outputs": [],
   "source": [
    "df_M_pred = df_M.copy()\n",
    "\n",
    "start_date = df_M.index[-1] + pd.Timedelta(days=40)\n",
    "end_date = start_date + pd.Timedelta(weeks=1000)\n",
    "\n",
    "print(start_date, end_date)\n",
    "\n",
    "date_list = pd.date_range(start=start_date, end=end_date, freq='M')\n",
    "\n",
    "future = pd.DataFrame(index=date_list, columns=df_M.columns)\n",
    "df_M_pred = pd.concat([df_M_pred, future])\n",
    "\n",
    "# make predictions\n",
    "predictions = best_model.predict(start=0,\n",
    "                                 end=len(df_M_pred) - 1)\n",
    "\n",
    "print(predictions)\n",
    "\n",
    "df_M_pred['predictions'] = invboxcox(predictions,\n",
    "                                     lmbda=boxcox(df_M[\"Avg Price\"])[1])\n",
    "\n",
    "# plot results\n",
    "plt.figure()\n",
    "df_M_pred[['Avg Price', 'predictions']].plot()"
   ]
  },
  {
   "cell_type": "code",
   "execution_count": null,
   "metadata": {},
   "outputs": [],
   "source": []
  }
 ],
 "metadata": {
  "kernelspec": {
   "display_name": "spark_scikit",
   "language": "python",
   "name": "python3"
  },
  "language_info": {
   "codemirror_mode": {
    "name": "ipython",
    "version": 3
   },
   "file_extension": ".py",
   "mimetype": "text/x-python",
   "name": "python",
   "nbconvert_exporter": "python",
   "pygments_lexer": "ipython3",
   "version": "3.12.2"
  }
 },
 "nbformat": 4,
 "nbformat_minor": 2
}
