{
 "cells": [
  {
   "cell_type": "markdown",
   "metadata": {},
   "source": [
    "Exponential smoothing"
   ]
  },
  {
   "cell_type": "code",
   "execution_count": null,
   "metadata": {},
   "outputs": [],
   "source": [
    "import os\n",
    "import numpy as np\n",
    "import pandas as pd\n",
    "import matplotlib.pyplot as plt\n",
    "from statsmodels.tsa.api import (ExponentialSmoothing,\n",
    "                                 SimpleExpSmoothing,\n",
    "                                 Holt,)\n",
    "from data.oil_data import get_oil_data\n",
    "from data.air_data import get_air_data\n",
    "from data.aust_data import get_aust_data"
   ]
  },
  {
   "cell_type": "markdown",
   "metadata": {},
   "source": [
    "btc_data = pd.read_csv(\n",
    "    \"/Users/pepijnschouten/Desktop/Python_Scripts/Python_scripts_Varia/Statsmodels_examples/timeseries/bitcoin_historical_data.csv\"\n",
    ").set_index(\"timestamp\")\n",
    "\n",
    "\n",
    "print(btc_data.head())"
   ]
  },
  {
   "cell_type": "markdown",
   "metadata": {},
   "source": [
    "Simple exponential Smoothing"
   ]
  },
  {
   "cell_type": "code",
   "execution_count": null,
   "metadata": {},
   "outputs": [],
   "source": [
    "oildata = get_oil_data()"
   ]
  },
  {
   "cell_type": "code",
   "execution_count": null,
   "metadata": {},
   "outputs": [],
   "source": [
    "ax = oildata.plot()\n",
    "ax.set_xlabel(\"Year\")\n",
    "ax.set_ylabel(\"Oil (millions of tonnes)\")\n",
    "plt.show()"
   ]
  },
  {
   "cell_type": "code",
   "execution_count": null,
   "metadata": {},
   "outputs": [],
   "source": [
    "fits, fcasts = [], []\n",
    "for alpha in (0.2, 0.6, None):\n",
    "    if alpha is None:\n",
    "        fit = SimpleExpSmoothing(\n",
    "            oildata,\n",
    "            initialization_method=\"estimated\").fit()\n",
    "        fcast = fit.forecast(3).rename(\n",
    "            f\"alpha={fit.model.params['smoothing_level']}\"\n",
    "        )\n",
    "    else:\n",
    "        fit = SimpleExpSmoothing(\n",
    "            oildata,\n",
    "            initialization_method=\"heuristic\",\n",
    "            ).fit(smoothing_level=alpha, optimized=False\n",
    "        )\n",
    "        fcast = fit.forecast(3).rename(\n",
    "            f\"alpha={alpha}\"\n",
    "        )\n",
    "    fits.append(fit)\n",
    "    fcasts.append(fcast)   "
   ]
  },
  {
   "cell_type": "code",
   "execution_count": null,
   "metadata": {},
   "outputs": [],
   "source": [
    "colors = (\"blue\", \"red\", \"green\")\n",
    "plt.figure(figsize=(12, 8), dpi=100, tight_layout=True)\n",
    "plt.plot(oildata, marker='o', color='black', label=\"data\")\n",
    "for fit, fcast, color in zip(fits, fcasts, colors):\n",
    "    plt.plot(fit.fittedvalues, color=color)\n",
    "    plt.plot(fcast, marker='o', color=color, label=fcast.name)\n",
    "plt.legend()\n",
    "plt.show()"
   ]
  },
  {
   "cell_type": "markdown",
   "metadata": {},
   "source": [
    "Holt's Method"
   ]
  },
  {
   "cell_type": "code",
   "execution_count": null,
   "metadata": {},
   "outputs": [],
   "source": [
    "airdata = get_air_data()\n",
    "\n",
    "ax = airdata.plot()\n",
    "plt.show()"
   ]
  },
  {
   "cell_type": "code",
   "execution_count": null,
   "metadata": {},
   "outputs": [],
   "source": [
    "fit1 = Holt(airdata, initialization_method=\"estimated\").fit(\n",
    "    smoothing_level=0.8, smoothing_trend=0.2, optimized=False\n",
    ")\n",
    "fcast1 = fit1.forecast(5).rename(\"Holt's linear trend\")\n",
    "fit2 = Holt(airdata, exponential=True, initialization_method=\"estimated\").fit(\n",
    "    smoothing_level=0.8, smoothing_trend=0.2, optimized=False\n",
    ")\n",
    "fcast2 = fit2.forecast(5).rename(\"Exponential trend\")\n",
    "fit3 = Holt(airdata, damped_trend=True, initialization_method=\"estimated\").fit(\n",
    "    smoothing_level=0.8, smoothing_trend=0.2\n",
    ")\n",
    "fcast3 = fit3.forecast(5).rename(\"Additive damped trend\")"
   ]
  },
  {
   "cell_type": "code",
   "execution_count": null,
   "metadata": {},
   "outputs": [],
   "source": [
    "plt.figure(figsize=(12, 8))\n",
    "(base,) = plt.plot(airdata, marker=\"o\", color=\"black\")\n",
    "plt.plot(fit1.fittedvalues, color=\"blue\")\n",
    "(line1,) = plt.plot(fcast1, marker=\"o\", color=\"blue\")\n",
    "plt.plot(fit2.fittedvalues, color=\"red\")\n",
    "(line2,) = plt.plot(fcast2, marker=\"o\", color=\"red\")\n",
    "plt.plot(fit3.fittedvalues, color=\"green\")\n",
    "(line3,) = plt.plot(fcast3, marker=\"o\", color=\"green\")\n",
    "plt.legend([base, line1, line2, line3],\n",
    "           [\"data\", fcast1.name, fcast2.name, fcast3.name])\n",
    "plt.show()"
   ]
  },
  {
   "cell_type": "markdown",
   "metadata": {},
   "source": [
    "Holts Seasonal (trend and seasonal component)"
   ]
  },
  {
   "cell_type": "code",
   "execution_count": null,
   "metadata": {},
   "outputs": [],
   "source": [
    "aust = get_aust_data()"
   ]
  },
  {
   "cell_type": "code",
   "execution_count": null,
   "metadata": {},
   "outputs": [],
   "source": [
    "fit1 = ExponentialSmoothing(\n",
    "    aust,\n",
    "    seasonal_periods=4,\n",
    "    trend=\"add\",\n",
    "    seasonal=\"add\",\n",
    "    use_boxcox=True,\n",
    "    initialization_method=\"estimated\",\n",
    ").fit()\n",
    "fit2 = ExponentialSmoothing(\n",
    "    aust,\n",
    "    seasonal_periods=4,\n",
    "    trend=\"add\",\n",
    "    seasonal=\"mul\",\n",
    "    use_boxcox=True,\n",
    "    initialization_method=\"estimated\",\n",
    ").fit()\n",
    "fit3 = ExponentialSmoothing(\n",
    "    aust,\n",
    "    seasonal_periods=4,\n",
    "    trend=\"add\",\n",
    "    seasonal=\"add\",\n",
    "    damped_trend=True,\n",
    "    use_boxcox=True,\n",
    "    initialization_method=\"estimated\",\n",
    ").fit()\n",
    "fit4 = ExponentialSmoothing(\n",
    "    aust,\n",
    "    seasonal_periods=4,\n",
    "    trend=\"add\",\n",
    "    seasonal=\"mul\",\n",
    "    damped_trend=True,\n",
    "    use_boxcox=True,\n",
    "    initialization_method=\"estimated\",\n",
    ").fit()\n",
    "results = pd.DataFrame(\n",
    "    index=[r\"$\\alpha$\", r\"$\\beta$\", r\"$\\phi$\", r\"$\\gamma$\", r\"$l_0$\", \"$b_0$\", \"SSE\"]\n",
    ")\n",
    "params = [\n",
    "    \"smoothing_level\",\n",
    "    \"smoothing_trend\",\n",
    "    \"damping_trend\",\n",
    "    \"smoothing_seasonal\",\n",
    "    \"initial_level\",\n",
    "    \"initial_trend\",\n",
    "]\n",
    "results[\"Additive\"] = [fit1.params[p] for p in params] + [fit1.sse]\n",
    "results[\"Multiplicative\"] = [fit2.params[p] for p in params] + [fit2.sse]\n",
    "results[\"Additive Dam\"] = [fit3.params[p] for p in params] + [fit3.sse]\n",
    "results[\"Multiplica Dam\"] = [fit4.params[p] for p in params] + [fit4.sse]"
   ]
  },
  {
   "cell_type": "code",
   "execution_count": null,
   "metadata": {},
   "outputs": [],
   "source": [
    "ax = aust.plot(\n",
    "    figsize=(10, 6),\n",
    "    marker=\"o\",\n",
    "    color=\"black\",\n",
    "    title=\"Forecasts from Holt-Winters' multiplicative method\",\n",
    "    legend=True,\n",
    ")\n",
    "ax.set_ylabel(\"International visitor night in Australia (millions)\")\n",
    "ax.set_xlabel(\"Year\")\n",
    "fit1.fittedvalues.plot(ax=ax, style=\"--\", color=\"red\")\n",
    "fit2.fittedvalues.plot(ax=ax, style=\"--\", color=\"green\")\n",
    "\n",
    "fit1.forecast(8).rename(\"Holt-Winters (add-add-seasonal)\").plot(\n",
    "    ax=ax, style=\"--\", marker=\"o\", color=\"red\", legend=True\n",
    ")\n",
    "fit2.forecast(8).rename(\"Holt-Winters (add-mul-seasonal)\").plot(\n",
    "    ax=ax, style=\"--\", marker=\"o\", color=\"green\", legend=True\n",
    ")\n",
    "\n",
    "plt.show()"
   ]
  },
  {
   "cell_type": "markdown",
   "metadata": {},
   "source": [
    "Simulations and Confidence intervals"
   ]
  },
  {
   "cell_type": "code",
   "execution_count": null,
   "metadata": {},
   "outputs": [],
   "source": [
    "fit = ExponentialSmoothing(\n",
    "    aust,\n",
    "    seasonal_periods=4,\n",
    "    trend=\"add\",\n",
    "    seasonal=\"mul\",\n",
    "    initialization_method=\"estimated\",\n",
    ").fit()\n",
    "\n",
    "simulations = fit.simulate(\n",
    "    8,\n",
    "    repetitions=100,\n",
    "    error='mul'\n",
    ")\n"
   ]
  },
  {
   "cell_type": "code",
   "execution_count": null,
   "metadata": {},
   "outputs": [],
   "source": [
    "ax = aust.plot(\n",
    "    figsize=(10, 6),\n",
    "    marker=\"o\",\n",
    "    color=\"black\",\n",
    "    title=\"Forecasts and simulations from Holt-Winters' multiplicative method\",\n",
    ")\n",
    "ax.set_ylabel(\"International visitor night in Australia (millions)\")\n",
    "ax.set_xlabel(\"Year\")\n",
    "fit.fittedvalues.plot(ax=ax, style=\"--\", color=\"green\")\n",
    "simulations.plot(ax=ax, style=\"-\", alpha=0.05, color=\"grey\", legend=False)\n",
    "fit.forecast(8).rename(\"Holt-Winters (add-mul-seasonal)\").plot(\n",
    "    ax=ax, style=\"--\", marker=\"o\", color=\"green\", legend=True\n",
    ")\n",
    "plt.show()"
   ]
  }
 ],
 "metadata": {
  "kernelspec": {
   "display_name": "spark_scikit",
   "language": "python",
   "name": "python3"
  },
  "language_info": {
   "codemirror_mode": {
    "name": "ipython",
    "version": 3
   },
   "file_extension": ".py",
   "mimetype": "text/x-python",
   "name": "python",
   "nbconvert_exporter": "python",
   "pygments_lexer": "ipython3",
   "version": "3.12.2"
  }
 },
 "nbformat": 4,
 "nbformat_minor": 2
}
